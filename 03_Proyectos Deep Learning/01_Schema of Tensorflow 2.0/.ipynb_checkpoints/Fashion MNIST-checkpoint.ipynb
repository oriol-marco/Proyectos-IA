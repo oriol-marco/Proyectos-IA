{
 "cells": [
  {
   "cell_type": "markdown",
   "id": "711503a8-4ead-474c-9bba-09f2ae115f31",
   "metadata": {},
   "source": [
    "# Importación librerías"
   ]
  },
  {
   "cell_type": "code",
   "execution_count": 1,
   "id": "00e9af45-3a83-485b-ad8d-8dc25fda2d83",
   "metadata": {},
   "outputs": [],
   "source": [
    "import numpy as np\n",
    "import datetime\n",
    "import tensorflow as tf\n",
    "from tensorflow.keras.datasets import fashion_mnist"
   ]
  },
  {
   "cell_type": "markdown",
   "id": "e95d93c1-50c5-4506-ab56-48ea0cb7a2fd",
   "metadata": {},
   "source": [
    "# Pre procesado de los datos"
   ]
  },
  {
   "cell_type": "code",
   "execution_count": 5,
   "id": "c638156b-4c84-4fde-979c-e95d73ffc9b7",
   "metadata": {},
   "outputs": [
    {
     "name": "stdout",
     "output_type": "stream",
     "text": [
      "Downloading data from https://storage.googleapis.com/tensorflow/tf-keras-datasets/train-labels-idx1-ubyte.gz\n",
      "32768/29515 [=================================] - 0s 0us/step\n",
      "Downloading data from https://storage.googleapis.com/tensorflow/tf-keras-datasets/train-images-idx3-ubyte.gz\n",
      "26427392/26421880 [==============================] - 2s 0us/step\n",
      "Downloading data from https://storage.googleapis.com/tensorflow/tf-keras-datasets/t10k-labels-idx1-ubyte.gz\n",
      "8192/5148 [===============================================] - 0s 0s/step\n",
      "Downloading data from https://storage.googleapis.com/tensorflow/tf-keras-datasets/t10k-images-idx3-ubyte.gz\n",
      "4423680/4422102 [==============================] - 0s 0us/step\n"
     ]
    }
   ],
   "source": [
    "# Carga del dataset\n",
    "\n",
    "(X_train, y_train), (X_test, y_test) = fashion_mnist.load_data()"
   ]
  },
  {
   "cell_type": "markdown",
   "id": "f618fe6b-dd4a-4b7d-8203-93a14c915ac8",
   "metadata": {},
   "source": [
    "## Normalización de las imagenes"
   ]
  },
  {
   "cell_type": "markdown",
   "id": "19152928-deba-4466-82b4-65e3991a0683",
   "metadata": {},
   "source": [
    "Se divide cada imagen en los conjuntos de entrenamiento y de testing entre el valor máximo de cada uno de los píxeles (255).\n",
    "\n",
    "De este modo, cada píxel se allará en el rango [0, 1]. Al normalizar las imágenes, nos aseguramos que el modelo de RNA entrenará de forma mas eficiente"
   ]
  },
  {
   "cell_type": "code",
   "execution_count": 7,
   "id": "24613f33-6b26-4606-b91e-328f39e79dae",
   "metadata": {},
   "outputs": [],
   "source": [
    "X_train = X_train / 255.0"
   ]
  },
  {
   "cell_type": "code",
   "execution_count": 8,
   "id": "5de2d7f6-ba3e-495d-b5a8-c16468aff5d7",
   "metadata": {},
   "outputs": [],
   "source": [
    "X_test = X_test / 255.0"
   ]
  },
  {
   "cell_type": "markdown",
   "id": "13e59374-880f-4513-9441-75aaf45a7435",
   "metadata": {},
   "source": [
    "## Redimensionar el dataset"
   ]
  },
  {
   "cell_type": "markdown",
   "id": "7f39de65-bc76-4c49-bd2b-2b8e992685ae",
   "metadata": {},
   "source": [
    "Al tratarse de una red neuronal totalmente conectada, se procede a redimensionar los subconjuntos de entrenamiento y de testing a formato de vector en vez de formato de matriz"
   ]
  },
  {
   "cell_type": "code",
   "execution_count": 9,
   "id": "0511b6ee-e637-4ccc-af33-9f6240c29ea2",
   "metadata": {},
   "outputs": [],
   "source": [
    "#Como cada imagen tiene 28x28 píxeles, usamos la función reshape en todo el dataset de entrenamiento para convertirlo \n",
    "#en vectores de tamaño [-1 (todos los elementos), anchura * altura]\n",
    "\n",
    "X_train = X_train.reshape(-1, 28*28)"
   ]
  },
  {
   "cell_type": "code",
   "execution_count": 10,
   "id": "0e01540b-703c-49b2-b331-a6b3ee44772f",
   "metadata": {},
   "outputs": [
    {
     "data": {
      "text/plain": [
       "(60000, 784)"
      ]
     },
     "execution_count": 10,
     "metadata": {},
     "output_type": "execute_result"
    }
   ],
   "source": [
    "X_train.shape"
   ]
  },
  {
   "cell_type": "code",
   "execution_count": 11,
   "id": "70fbd368-c8db-4591-8031-35102f16f23a",
   "metadata": {},
   "outputs": [],
   "source": [
    "#Redimensionamos el conjunto de testing del mismo modo\n",
    "\n",
    "X_test = X_test.reshape(-1, 28*28)"
   ]
  },
  {
   "cell_type": "code",
   "execution_count": 12,
   "id": "b48aac0a-7a4a-4d25-b7ff-eb36b013841e",
   "metadata": {},
   "outputs": [
    {
     "data": {
      "text/plain": [
       "(10000, 784)"
      ]
     },
     "execution_count": 12,
     "metadata": {},
     "output_type": "execute_result"
    }
   ],
   "source": [
    "X_test.shape"
   ]
  },
  {
   "cell_type": "markdown",
   "id": "ef6cde49-343c-472f-a797-80971c865f90",
   "metadata": {},
   "source": [
    "# Construcción de la Red Neuronal Artificial"
   ]
  },
  {
   "cell_type": "markdown",
   "id": "d7cd4e91-3309-4554-9509-d6e79a5777ba",
   "metadata": {},
   "source": [
    "## Definición del modelo"
   ]
  },
  {
   "cell_type": "code",
   "execution_count": 26,
   "id": "ffebf1a6-993c-4fce-9afb-9d2877a67c5b",
   "metadata": {},
   "outputs": [],
   "source": [
    "model = tf.keras.models.Sequential()"
   ]
  },
  {
   "cell_type": "markdown",
   "id": "b601f719-cf8a-42ab-8cc9-b7682c00e8f8",
   "metadata": {},
   "source": [
    "## Añadir la primera capa totalmente conectada"
   ]
  },
  {
   "cell_type": "code",
   "execution_count": 27,
   "id": "05fc2097-c33c-46ef-91be-62408759fdb6",
   "metadata": {},
   "outputs": [],
   "source": [
    "model.add(tf.keras.layers.Dense(units = 128, activation = 'relu', input_shape = (784, )))"
   ]
  },
  {
   "cell_type": "markdown",
   "id": "32f1e2e2-9af0-4db1-a6f6-07b3fd421fa1",
   "metadata": {},
   "source": [
    "## Añadir una capa de Dropout"
   ]
  },
  {
   "cell_type": "markdown",
   "id": "884904fd-f089-4272-814e-bec495df2cec",
   "metadata": {},
   "source": [
    "Dropout es una técnica de Regularization donde aleatoriamente se asignan a ciertas neuronas de la red el valor cero. De este modo, mientras se entrena, estas neuronas no actualizarán sus valores. Al tener cierto porcentaje de neuronas sin actualizar, el proceso de entrenamiento toma más tiempo pero por contra tenemos menos posibilidades de sufrir overfitting."
   ]
  },
  {
   "cell_type": "code",
   "execution_count": 28,
   "id": "75d8561e-57c2-4031-a9ca-7f518de0dbdc",
   "metadata": {},
   "outputs": [],
   "source": [
    "model.add(tf.keras.layers.Dropout(0.2))"
   ]
  },
  {
   "cell_type": "markdown",
   "id": "a2586186-6284-41f8-b56e-f3fcc8f00a16",
   "metadata": {},
   "source": [
    "## Añadir la capa de salida"
   ]
  },
  {
   "cell_type": "markdown",
   "id": "f79d34e8-19d9-4701-9d18-50a10cfd49ef",
   "metadata": {},
   "source": [
    "- Unidades: número de clases (10 en el caso del Fashion MNIST)\n",
    "- Función de activación: 'softmax' (probabilidades de cada clase)"
   ]
  },
  {
   "cell_type": "code",
   "execution_count": 29,
   "id": "aeb36ef4-ec9c-4200-af93-cc8571be13b3",
   "metadata": {},
   "outputs": [],
   "source": [
    "model.add(tf.keras.layers.Dense(units=10, activation='softmax'))"
   ]
  },
  {
   "cell_type": "markdown",
   "id": "ec327446-1e91-459d-af01-79b4f4a81bc3",
   "metadata": {},
   "source": [
    "## Compilar el modelo"
   ]
  },
  {
   "cell_type": "markdown",
   "id": "7884724c-d9ed-4970-9b74-1e689b897778",
   "metadata": {},
   "source": [
    "- Optimizer: Adam\n",
    "- Loss: Sparse softmax (categorical) crossentropy "
   ]
  },
  {
   "cell_type": "code",
   "execution_count": 30,
   "id": "cfd78fac-7856-4edc-83fa-d05c17bde7c7",
   "metadata": {},
   "outputs": [],
   "source": [
    "model.compile(optimizer='adam', loss='sparse_categorical_crossentropy', metrics=['sparse_categorical_accuracy'])"
   ]
  },
  {
   "cell_type": "code",
   "execution_count": 31,
   "id": "89413a8d-b046-453a-9c71-2b457e314236",
   "metadata": {},
   "outputs": [
    {
     "name": "stdout",
     "output_type": "stream",
     "text": [
      "Model: \"sequential\"\n",
      "_________________________________________________________________\n",
      "Layer (type)                 Output Shape              Param #   \n",
      "=================================================================\n",
      "dense_7 (Dense)              (None, 128)               100480    \n",
      "_________________________________________________________________\n",
      "dropout (Dropout)            (None, 128)               0         \n",
      "_________________________________________________________________\n",
      "dense_8 (Dense)              (None, 10)                1290      \n",
      "=================================================================\n",
      "Total params: 101,770\n",
      "Trainable params: 101,770\n",
      "Non-trainable params: 0\n",
      "_________________________________________________________________\n"
     ]
    }
   ],
   "source": [
    "model.summary()"
   ]
  },
  {
   "cell_type": "code",
   "execution_count": null,
   "id": "a18991d9-c196-4e5d-aee7-892dd430a8ad",
   "metadata": {},
   "outputs": [],
   "source": []
  }
 ],
 "metadata": {
  "kernelspec": {
   "display_name": "Python 3",
   "language": "python",
   "name": "python3"
  },
  "language_info": {
   "codemirror_mode": {
    "name": "ipython",
    "version": 3
   },
   "file_extension": ".py",
   "mimetype": "text/x-python",
   "name": "python",
   "nbconvert_exporter": "python",
   "pygments_lexer": "ipython3",
   "version": "3.8.8"
  }
 },
 "nbformat": 4,
 "nbformat_minor": 5
}
