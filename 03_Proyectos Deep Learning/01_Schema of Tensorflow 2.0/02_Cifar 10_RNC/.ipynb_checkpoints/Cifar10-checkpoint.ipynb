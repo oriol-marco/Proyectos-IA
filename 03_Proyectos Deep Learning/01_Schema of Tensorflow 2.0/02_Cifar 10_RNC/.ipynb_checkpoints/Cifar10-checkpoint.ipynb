{
 "cells": [
  {
   "cell_type": "markdown",
   "metadata": {
    "id": "lRHFdNYAfWKJ"
   },
   "source": [
    "## Importar las librerías necesarias"
   ]
  },
  {
   "cell_type": "code",
   "execution_count": 2,
   "metadata": {
    "colab": {
     "base_uri": "https://localhost:8080/",
     "height": 37
    },
    "executionInfo": {
     "elapsed": 2846,
     "status": "ok",
     "timestamp": 1599237193516,
     "user": {
      "displayName": "Juan Gabriel Gomila Salas",
      "photoUrl": "https://lh3.googleusercontent.com/a-/AOh14GjdBM44CAiZlDiF-IkE0NJQH-LHKt1b0A22wmma_w=s64",
      "userId": "03106941341701838274"
     },
     "user_tz": -120
    },
    "id": "tS5xFeQwe9Xu",
    "outputId": "5099a4ec-28a1-48bc-c052-eda0857acacf"
   },
   "outputs": [
    {
     "data": {
      "text/plain": [
       "'2.3.0'"
      ]
     },
     "execution_count": 2,
     "metadata": {},
     "output_type": "execute_result"
    }
   ],
   "source": [
    "import tensorflow as tf\n",
    "import matplotlib.pyplot as plt\n",
    "\n",
    "from tensorflow.keras.datasets import cifar10\n",
    "\n",
    "%matplotlib inline\n",
    "tf.__version__"
   ]
  },
  {
   "cell_type": "markdown",
   "metadata": {
    "id": "e8zYubaPfy-S"
   },
   "source": [
    "## Pre procesado de datos\n"
   ]
  },
  {
   "cell_type": "markdown",
   "metadata": {
    "id": "AOAGjiPogF0w"
   },
   "source": [
    "### Cargar el dataset  Cifar10"
   ]
  },
  {
   "cell_type": "code",
   "execution_count": 3,
   "metadata": {
    "id": "v1N6LbS-e9a1"
   },
   "outputs": [],
   "source": [
    "# Configurar el nombre de las clases del dataset\n",
    "class_names = ['avión', 'coche', 'pájaro', 'gato', 'ciervo', 'perro', 'rana', 'caballo', 'barco', 'camión']"
   ]
  },
  {
   "cell_type": "code",
   "execution_count": 4,
   "metadata": {
    "colab": {
     "base_uri": "https://localhost:8080/",
     "height": 52
    },
    "executionInfo": {
     "elapsed": 9632,
     "status": "ok",
     "timestamp": 1599237257133,
     "user": {
      "displayName": "Juan Gabriel Gomila Salas",
      "photoUrl": "https://lh3.googleusercontent.com/a-/AOh14GjdBM44CAiZlDiF-IkE0NJQH-LHKt1b0A22wmma_w=s64",
      "userId": "03106941341701838274"
     },
     "user_tz": -120
    },
    "id": "f13-8-m_fqKP",
    "outputId": "01b760c5-81a5-4b3b-cfcc-d64c3317a4e2"
   },
   "outputs": [],
   "source": [
    "# Cargar el dataset\n",
    "(X_train, y_train), (X_test, y_test) = cifar10.load_data()"
   ]
  },
  {
   "cell_type": "markdown",
   "metadata": {
    "id": "XqDIpsJWgUkz"
   },
   "source": [
    "### Normalización de las imágenes"
   ]
  },
  {
   "cell_type": "code",
   "execution_count": 5,
   "metadata": {},
   "outputs": [
    {
     "data": {
      "text/plain": [
       "(50000, 32, 32, 3)"
      ]
     },
     "execution_count": 5,
     "metadata": {},
     "output_type": "execute_result"
    }
   ],
   "source": [
    "X_train.shape"
   ]
  },
  {
   "cell_type": "code",
   "execution_count": 6,
   "metadata": {
    "id": "-QFncPlpgNmU"
   },
   "outputs": [],
   "source": [
    "X_train = X_train / 255.0"
   ]
  },
  {
   "cell_type": "code",
   "execution_count": 7,
   "metadata": {
    "colab": {
     "base_uri": "https://localhost:8080/",
     "height": 35
    },
    "executionInfo": {
     "elapsed": 664,
     "status": "ok",
     "timestamp": 1599237259536,
     "user": {
      "displayName": "Juan Gabriel Gomila Salas",
      "photoUrl": "https://lh3.googleusercontent.com/a-/AOh14GjdBM44CAiZlDiF-IkE0NJQH-LHKt1b0A22wmma_w=s64",
      "userId": "03106941341701838274"
     },
     "user_tz": -120
    },
    "id": "L1rFHX67gc6G",
    "outputId": "137a6b27-4cca-437b-b260-c4fe41e8285b"
   },
   "outputs": [
    {
     "data": {
      "text/plain": [
       "(50000, 32, 32, 3)"
      ]
     },
     "execution_count": 7,
     "metadata": {},
     "output_type": "execute_result"
    }
   ],
   "source": [
    "X_train.shape"
   ]
  },
  {
   "cell_type": "code",
   "execution_count": 8,
   "metadata": {
    "id": "Ve2WbRGWgc3I"
   },
   "outputs": [],
   "source": [
    "X_test = X_test / 255.0"
   ]
  },
  {
   "cell_type": "code",
   "execution_count": 9,
   "metadata": {},
   "outputs": [
    {
     "data": {
      "text/plain": [
       "(10000, 32, 32, 3)"
      ]
     },
     "execution_count": 9,
     "metadata": {},
     "output_type": "execute_result"
    }
   ],
   "source": [
    "X_test.shape"
   ]
  },
  {
   "cell_type": "code",
   "execution_count": 10,
   "metadata": {
    "colab": {
     "base_uri": "https://localhost:8080/",
     "height": 284
    },
    "executionInfo": {
     "elapsed": 904,
     "status": "ok",
     "timestamp": 1599237262151,
     "user": {
      "displayName": "Juan Gabriel Gomila Salas",
      "photoUrl": "https://lh3.googleusercontent.com/a-/AOh14GjdBM44CAiZlDiF-IkE0NJQH-LHKt1b0A22wmma_w=s64",
      "userId": "03106941341701838274"
     },
     "user_tz": -120
    },
    "id": "7jwvNZ82gh9d",
    "outputId": "517e7cd6-9d51-4934-bfb6-7318776513e0"
   },
   "outputs": [
    {
     "data": {
      "text/plain": [
       "<matplotlib.image.AxesImage at 0x2df7c834190>"
      ]
     },
     "execution_count": 10,
     "metadata": {},
     "output_type": "execute_result"
    },
    {
     "data": {
      "image/png": "[encoded data removed]",
      "text/plain": [
       "<Figure size 432x288 with 1 Axes>"
      ]
     },
     "metadata": {
      "needs_background": "light"
     },
     "output_type": "display_data"
    }
   ],
   "source": [
    "plt.imshow(X_test[6])"
   ]
  },
  {
   "cell_type": "code",
   "execution_count": 11,
   "metadata": {
    "colab": {
     "base_uri": "https://localhost:8080/",
     "height": 35
    },
    "executionInfo": {
     "elapsed": 645,
     "status": "ok",
     "timestamp": 1599237265342,
     "user": {
      "displayName": "Juan Gabriel Gomila Salas",
      "photoUrl": "https://lh3.googleusercontent.com/a-/AOh14GjdBM44CAiZlDiF-IkE0NJQH-LHKt1b0A22wmma_w=s64",
      "userId": "03106941341701838274"
     },
     "user_tz": -120
    },
    "id": "KVa5IU6o-tJL",
    "outputId": "75bea9bd-ee54-4fa8-eaf8-3e5bd7fc6121"
   },
   "outputs": [
    {
     "data": {
      "text/plain": [
       "array([0], dtype=uint8)"
      ]
     },
     "execution_count": 11,
     "metadata": {},
     "output_type": "execute_result"
    }
   ],
   "source": [
    "y_test[10]"
   ]
  },
  {
   "cell_type": "markdown",
   "metadata": {
    "id": "HXiuZulIguyf"
   },
   "source": [
    "## Construir una red neuronal convolucional"
   ]
  },
  {
   "cell_type": "markdown",
   "metadata": {
    "id": "ZFTetk8ngy0f"
   },
   "source": [
    "### Definir el modelo"
   ]
  },
  {
   "cell_type": "code",
   "execution_count": 12,
   "metadata": {
    "id": "1TR0JGP5gq2i"
   },
   "outputs": [],
   "source": [
    "model = tf.keras.models.Sequential()"
   ]
  },
  {
   "cell_type": "markdown",
   "metadata": {
    "id": "j92d4FE0hTZV"
   },
   "source": [
    "### Añadir la primera capa de convolución\n",
    "\n",
    "Hyper parámetros de la capa de la RNC:\n",
    "- Filtros: 32\n",
    "- Tamaño del kernel: 3\n",
    "- padding: same\n",
    "- Función de Activación: relu\n",
    "- input_shape: (32, 32, 3)\n"
   ]
  },
  {
   "cell_type": "code",
   "execution_count": 13,
   "metadata": {
    "id": "LSkL1iOvg_dE"
   },
   "outputs": [],
   "source": [
    "model.add(tf.keras.layers.Conv2D(filters=32, kernel_size=3, padding=\"same\", activation=\"relu\", input_shape=[32, 32, 3]))"
   ]
  },
  {
   "cell_type": "markdown",
   "metadata": {
    "id": "gfRAaRmWiSlZ"
   },
   "source": [
    "### Añadir una segunda capa convolucional y la capa de max-pooling \n",
    "\n",
    "Hyper parámetros de la capa de la RNC:\n",
    "- Filtros: 32\n",
    "- Tamaño del kernel: 3\n",
    "- padding: same\n",
    "- Función de Activación: relu\n",
    "\n",
    "Hyper parámetros de la capa de MaxPool:\n",
    "- pool_size: 2\n",
    "- strides: 2\n",
    "- padding: valid"
   ]
  },
  {
   "cell_type": "code",
   "execution_count": 14,
   "metadata": {
    "id": "sSl7Es5yidMp"
   },
   "outputs": [],
   "source": [
    "model.add(tf.keras.layers.Conv2D(filters=32, kernel_size=3, padding=\"same\", activation=\"relu\"))"
   ]
  },
  {
   "cell_type": "code",
   "execution_count": 15,
   "metadata": {
    "id": "wmP9h5wliAR6"
   },
   "outputs": [],
   "source": [
    "model.add(tf.keras.layers.MaxPool2D(pool_size=2, strides=2, padding='valid'))"
   ]
  },
  {
   "cell_type": "markdown",
   "metadata": {
    "id": "wd8ERDyvin-0"
   },
   "source": [
    "### Añadir la tercera capa convolucional\n",
    "\n",
    "Hyper parámetros de la capa de la RNC:\n",
    "- Filtros: 64\n",
    "- Tamaño del kernel: 3\n",
    "- padding: same\n",
    "- Función de Activación: relu\n"
   ]
  },
  {
   "cell_type": "code",
   "execution_count": 16,
   "metadata": {
    "id": "i9HWy6aFixEw"
   },
   "outputs": [],
   "source": [
    "model.add(tf.keras.layers.Conv2D(filters=64, kernel_size=3, padding=\"same\", activation=\"relu\"))"
   ]
  },
  {
   "cell_type": "markdown",
   "metadata": {
    "id": "O55kyOQGi44V"
   },
   "source": [
    "###  Añadir la cuarta capa convolucional y la capa de max-pooling\n",
    "\n",
    "Hyper parámetros de la capa de la RNC:\n",
    "- Filtros: 64\n",
    "- Tamaño del kernel: 3\n",
    "- padding: same\n",
    "- Función de Activación: relu\n",
    "\n",
    "Hyper parámetros de la capa de la MaxPool:\n",
    "- pool_size: 2\n",
    "- strides: 2\n",
    "- padding: valid\n"
   ]
  },
  {
   "cell_type": "code",
   "execution_count": 17,
   "metadata": {
    "id": "5b7vAuhjjCF2"
   },
   "outputs": [],
   "source": [
    "model.add(tf.keras.layers.Conv2D(filters=64, kernel_size=3, padding=\"same\", activation=\"relu\"))"
   ]
  },
  {
   "cell_type": "code",
   "execution_count": 18,
   "metadata": {
    "id": "oc493G2BjFhg"
   },
   "outputs": [],
   "source": [
    "model.add(tf.keras.layers.MaxPool2D(pool_size=2, strides=2, padding='valid'))"
   ]
  },
  {
   "cell_type": "markdown",
   "metadata": {
    "id": "-hGnR3aXjKbZ"
   },
   "source": [
    "### Añadir la capa de flattening"
   ]
  },
  {
   "cell_type": "code",
   "execution_count": 19,
   "metadata": {
    "id": "QLzu2cCVjI5Z"
   },
   "outputs": [],
   "source": [
    "model.add(tf.keras.layers.Flatten())"
   ]
  },
  {
   "cell_type": "code",
   "execution_count": 21,
   "metadata": {},
   "outputs": [],
   "source": [
    "model.add(tf.keras.layers.Dropout(0.2))"
   ]
  },
  {
   "cell_type": "code",
   "execution_count": 22,
   "metadata": {},
   "outputs": [],
   "source": [
    "model.add(tf.keras.layers.Dense(units = 128, activation = 'relu'))"
   ]
  },
  {
   "cell_type": "markdown",
   "metadata": {
    "id": "GpeRUvVWjR1W"
   },
   "source": [
    "### Añadir la primera capa fully-connected\n",
    "\n",
    "Hyper parámetros de la capa totalmente conectada:\n",
    "- units/neurons: 128\n",
    "- activation: relu"
   ]
  },
  {
   "cell_type": "code",
   "execution_count": 23,
   "metadata": {
    "id": "FWzYY8kKjhnZ"
   },
   "outputs": [],
   "source": [
    "model.add(tf.keras.layers.Dense(units=128, activation='relu'))"
   ]
  },
  {
   "cell_type": "markdown",
   "metadata": {
    "id": "UaakKTqRjrkF"
   },
   "source": [
    "### Añadir la capa de salida\n",
    "\n",
    "Hyper parámetros de la capa totalmente conectada:\n",
    "\n",
    " - units/neurons: 10 (number of classes)\n",
    " - activation: softmax\n"
   ]
  },
  {
   "cell_type": "code",
   "execution_count": 24,
   "metadata": {
    "id": "4t-JmzRvjnBj"
   },
   "outputs": [],
   "source": [
    "model.add(tf.keras.layers.Dense(units=10, activation='softmax'))"
   ]
  },
  {
   "cell_type": "code",
   "execution_count": 25,
   "metadata": {
    "colab": {
     "base_uri": "https://localhost:8080/",
     "height": 475
    },
    "executionInfo": {
     "elapsed": 673,
     "status": "ok",
     "timestamp": 1599237292879,
     "user": {
      "displayName": "Juan Gabriel Gomila Salas",
      "photoUrl": "https://lh3.googleusercontent.com/a-/AOh14GjdBM44CAiZlDiF-IkE0NJQH-LHKt1b0A22wmma_w=s64",
      "userId": "03106941341701838274"
     },
     "user_tz": -120
    },
    "id": "aRr3bCU-ti06",
    "outputId": "9c1ee1c5-3c4b-4702-f7de-323c56787648"
   },
   "outputs": [
    {
     "name": "stdout",
     "output_type": "stream",
     "text": [
      "Model: \"sequential\"\n",
      "_________________________________________________________________\n",
      "Layer (type)                 Output Shape              Param #   \n",
      "=================================================================\n",
      "conv2d (Conv2D)              (None, 32, 32, 32)        896       \n",
      "_________________________________________________________________\n",
      "conv2d_1 (Conv2D)            (None, 32, 32, 32)        9248      \n",
      "_________________________________________________________________\n",
      "max_pooling2d (MaxPooling2D) (None, 16, 16, 32)        0         \n",
      "_________________________________________________________________\n",
      "conv2d_2 (Conv2D)            (None, 16, 16, 64)        18496     \n",
      "_________________________________________________________________\n",
      "conv2d_3 (Conv2D)            (None, 16, 16, 64)        36928     \n",
      "_________________________________________________________________\n",
      "max_pooling2d_1 (MaxPooling2 (None, 8, 8, 64)          0         \n",
      "_________________________________________________________________\n",
      "flatten (Flatten)            (None, 4096)              0         \n",
      "_________________________________________________________________\n",
      "dropout (Dropout)            (None, 4096)              0         \n",
      "_________________________________________________________________\n",
      "dense (Dense)                (None, 128)               524416    \n",
      "_________________________________________________________________\n",
      "dense_1 (Dense)              (None, 128)               16512     \n",
      "_________________________________________________________________\n",
      "dense_2 (Dense)              (None, 10)                1290      \n",
      "=================================================================\n",
      "Total params: 607,786\n",
      "Trainable params: 607,786\n",
      "Non-trainable params: 0\n",
      "_________________________________________________________________\n"
     ]
    }
   ],
   "source": [
    "model.summary()"
   ]
  },
  {
   "cell_type": "markdown",
   "metadata": {
    "id": "DYgvbNihtprw"
   },
   "source": [
    "### Compilar el modelo\n",
    "\n",
    "#### sparse_categorical_accuracy\n",
    "sparse_categorical_accuracy comprueba si el valor verdadero maximal coincide con el índice maximal del valor de la predicción."
   ]
  },
  {
   "cell_type": "code",
   "execution_count": 27,
   "metadata": {
    "id": "oYHELxz4tsa-"
   },
   "outputs": [],
   "source": [
    "model.compile(loss=\"sparse_categorical_crossentropy\", optimizer=\"Adam\", metrics=[\"sparse_categorical_accuracy\"])"
   ]
  },
  {
   "cell_type": "markdown",
   "metadata": {
    "id": "Gox3SmwUtwgX"
   },
   "source": [
    "### Entrenar el modelo"
   ]
  },
  {
   "cell_type": "code",
   "execution_count": 28,
   "metadata": {
    "colab": {
     "base_uri": "https://localhost:8080/",
     "height": 211
    },
    "executionInfo": {
     "elapsed": 35952,
     "status": "ok",
     "timestamp": 1599237333716,
     "user": {
      "displayName": "Juan Gabriel Gomila Salas",
      "photoUrl": "https://lh3.googleusercontent.com/a-/AOh14GjdBM44CAiZlDiF-IkE0NJQH-LHKt1b0A22wmma_w=s64",
      "userId": "03106941341701838274"
     },
     "user_tz": -120
    },
    "id": "D3MHvRYKe9fN",
    "outputId": "992911ee-62d1-48f6-9189-f25027a5977e"
   },
   "outputs": [
    {
     "name": "stdout",
     "output_type": "stream",
     "text": [
      "Epoch 1/5\n",
      "1563/1563 [==============================] - 94s 60ms/step - loss: 1.4002 - sparse_categorical_accuracy: 0.4869\n",
      "Epoch 2/5\n",
      "1563/1563 [==============================] - 99s 63ms/step - loss: 0.9562 - sparse_categorical_accuracy: 0.6641\n",
      "Epoch 3/5\n",
      "1563/1563 [==============================] - 99s 63ms/step - loss: 0.7761 - sparse_categorical_accuracy: 0.7271\n",
      "Epoch 4/5\n",
      "1563/1563 [==============================] - 101s 65ms/step - loss: 0.6766 - sparse_categorical_accuracy: 0.7630\n",
      "Epoch 5/5\n",
      "1563/1563 [==============================] - 96s 61ms/step - loss: 0.5909 - sparse_categorical_accuracy: 0.7910\n"
     ]
    },
    {
     "data": {
      "text/plain": [
       "<tensorflow.python.keras.callbacks.History at 0x2df78b4f2e0>"
      ]
     },
     "execution_count": 28,
     "metadata": {},
     "output_type": "execute_result"
    }
   ],
   "source": [
    "model.fit(X_train, y_train, epochs=5)"
   ]
  },
  {
   "cell_type": "markdown",
   "metadata": {
    "id": "D8C7Pm0NuOrJ"
   },
   "source": [
    "### Evaluar el modelo"
   ]
  },
  {
   "cell_type": "code",
   "execution_count": 29,
   "metadata": {
    "colab": {
     "base_uri": "https://localhost:8080/",
     "height": 34
    },
    "executionInfo": {
     "elapsed": 2006,
     "status": "ok",
     "timestamp": 1564609763373,
     "user": {
      "displayName": "Juan Gabriel Gomila Salas",
      "photoUrl": "https://lh4.googleusercontent.com/-RJ38mzk8Fog/AAAAAAAAAAI/AAAAAAAAA_g/VV8PcNMAUrk/s64/photo.jpg",
      "userId": "03106941341701838274"
     },
     "user_tz": -120
    },
    "id": "Z9r8TtNet3D0",
    "outputId": "072c4a8a-b049-4282-ca01-839ea0ed9be8"
   },
   "outputs": [
    {
     "name": "stdout",
     "output_type": "stream",
     "text": [
      "313/313 [==============================] - 4s 13ms/step - loss: 0.7557 - sparse_categorical_accuracy: 0.7391\n"
     ]
    }
   ],
   "source": [
    "test_loss, test_accuracy = model.evaluate(X_test, y_test)"
   ]
  },
  {
   "cell_type": "code",
   "execution_count": 30,
   "metadata": {
    "colab": {
     "base_uri": "https://localhost:8080/",
     "height": 34
    },
    "executionInfo": {
     "elapsed": 1416,
     "status": "ok",
     "timestamp": 1564609770437,
     "user": {
      "displayName": "Juan Gabriel Gomila Salas",
      "photoUrl": "https://lh4.googleusercontent.com/-RJ38mzk8Fog/AAAAAAAAAAI/AAAAAAAAA_g/VV8PcNMAUrk/s64/photo.jpg",
      "userId": "03106941341701838274"
     },
     "user_tz": -120
    },
    "id": "0rpAPpfzuV0p",
    "outputId": "20f0d11b-4aed-4856-e8fe-782f51d2f4ca"
   },
   "outputs": [
    {
     "name": "stdout",
     "output_type": "stream",
     "text": [
      "Test accuracy: 0.7390999794006348\n"
     ]
    }
   ],
   "source": [
    "print(\"Test accuracy: {}\".format(test_accuracy))"
   ]
  },
  {
   "cell_type": "code",
   "execution_count": null,
   "metadata": {},
   "outputs": [],
   "source": []
  }
 ],
 "metadata": {
  "accelerator": "GPU",
  "colab": {
   "collapsed_sections": [],
   "name": "Copia de Colab 4 - Construir una Red Neuronal Convolucional con TensorFlow 2.0.ipynb",
   "provenance": [
    {
     "file_id": "1aOYlBG9K2FtScxXniFVefnBHZGtiog8e",
     "timestamp": 1623340727494
    },
    {
     "file_id": "1M90124HfEO_zORhbVDdFeDMHV743eJmc",
     "timestamp": 1564596643353
    },
    {
     "file_id": "11eF0dRN2zWmXeBI3vQa2OTE-gzRp3Q7o",
     "timestamp": 1558700838561
    }
   ]
  },
  "kernelspec": {
   "display_name": "Python 3",
   "language": "python",
   "name": "python3"
  },
  "language_info": {
   "codemirror_mode": {
    "name": "ipython",
    "version": 3
   },
   "file_extension": ".py",
   "mimetype": "text/x-python",
   "name": "python",
   "nbconvert_exporter": "python",
   "pygments_lexer": "ipython3",
   "version": "3.8.8"
  }
 },
 "nbformat": 4,
 "nbformat_minor": 4
}
