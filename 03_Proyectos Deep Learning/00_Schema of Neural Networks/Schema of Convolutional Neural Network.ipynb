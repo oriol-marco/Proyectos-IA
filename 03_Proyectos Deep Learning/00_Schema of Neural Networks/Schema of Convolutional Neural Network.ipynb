{
 "cells": [
  {
   "cell_type": "code",
   "execution_count": 13,
   "metadata": {
    "executionInfo": {
     "elapsed": 182,
     "status": "ok",
     "timestamp": 1623047491362,
     "user": {
      "displayName": "Oriol Marco",
      "photoUrl": "",
      "userId": "03589516125482153588"
     },
     "user_tz": -120
    },
    "id": "j3qELI51T7gL"
   },
   "outputs": [],
   "source": [
    "#Importar librerías y paquetes\n",
    "\n",
    "from keras.models import Sequential\n",
    "from keras.layers import Convolution2D\n",
    "from keras.layers import MaxPooling2D\n",
    "from keras.layers import Flatten\n",
    "from keras.layers import Dense"
   ]
  },
  {
   "cell_type": "code",
   "execution_count": 31,
   "metadata": {
    "executionInfo": {
     "elapsed": 201,
     "status": "ok",
     "timestamp": 1623047821759,
     "user": {
      "displayName": "Oriol Marco",
      "photoUrl": "",
      "userId": "03589516125482153588"
     },
     "user_tz": -120
    },
    "id": "qH-CpKxwULiT"
   },
   "outputs": [],
   "source": [
    "#Inicializar la CNN\n",
    "\n",
    "classifier = Sequential()"
   ]
  },
  {
   "cell_type": "code",
   "execution_count": 32,
   "metadata": {
    "executionInfo": {
     "elapsed": 198,
     "status": "ok",
     "timestamp": 1623047823596,
     "user": {
      "displayName": "Oriol Marco",
      "photoUrl": "",
      "userId": "03589516125482153588"
     },
     "user_tz": -120
    },
    "id": "9lhqMaYmY9Uc"
   },
   "outputs": [],
   "source": [
    "# Convolución:\n",
    "   # Mapa de características (múltiple de 2 por optimización)\n",
    "   # Kernel size convolución\n",
    "   # Input Shape\n",
    "   # Función activación\n",
    "\n",
    "classifier.add(Convolution2D(filters = 32, kernel_size = (3, 3), input_shape = (64, 64, 3), activation = \"relu\"))"
   ]
  },
  {
   "cell_type": "code",
   "execution_count": 33,
   "metadata": {
    "executionInfo": {
     "elapsed": 189,
     "status": "ok",
     "timestamp": 1623047825450,
     "user": {
      "displayName": "Oriol Marco",
      "photoUrl": "",
      "userId": "03589516125482153588"
     },
     "user_tz": -120
    },
    "id": "NUL39_9PneVN"
   },
   "outputs": [],
   "source": [
    "# Max Pooling (dividiendo la matriz de características a la mitad)\n",
    "\n",
    "classifier.add(MaxPooling2D(pool_size = (2, 2)))"
   ]
  },
  {
   "cell_type": "code",
   "execution_count": 34,
   "metadata": {
    "executionInfo": {
     "elapsed": 171,
     "status": "ok",
     "timestamp": 1623047827286,
     "user": {
      "displayName": "Oriol Marco",
      "photoUrl": "",
      "userId": "03589516125482153588"
     },
     "user_tz": -120
    },
    "id": "nwq6kZvHZ95i"
   },
   "outputs": [],
   "source": [
    "#Segunda capa de convolución\n",
    "\n",
    "classifier.add(Convolution2D(filters = 32, kernel_size = (3, 3), activation = \"relu\"))"
   ]
  },
  {
   "cell_type": "code",
   "execution_count": 35,
   "metadata": {
    "executionInfo": {
     "elapsed": 227,
     "status": "ok",
     "timestamp": 1623047829941,
     "user": {
      "displayName": "Oriol Marco",
      "photoUrl": "",
      "userId": "03589516125482153588"
     },
     "user_tz": -120
    },
    "id": "4I7SjNvfaBQB"
   },
   "outputs": [],
   "source": [
    "#Segunda capa de MaxPooling\n",
    "\n",
    "classifier.add(MaxPooling2D(pool_size = (2, 2)))"
   ]
  },
  {
   "cell_type": "code",
   "execution_count": 36,
   "metadata": {
    "executionInfo": {
     "elapsed": 206,
     "status": "ok",
     "timestamp": 1623047832016,
     "user": {
      "displayName": "Oriol Marco",
      "photoUrl": "",
      "userId": "03589516125482153588"
     },
     "user_tz": -120
    },
    "id": "6SczBUJxKgEa"
   },
   "outputs": [],
   "source": [
    "# Tercera capa de Convolución\n",
    "\n",
    "#classifier.add(Convolution2D(filters = 64, kernel_size = (3, 3), activation = \"relu\"))"
   ]
  },
  {
   "cell_type": "code",
   "execution_count": 37,
   "metadata": {
    "executionInfo": {
     "elapsed": 190,
     "status": "ok",
     "timestamp": 1623047833214,
     "user": {
      "displayName": "Oriol Marco",
      "photoUrl": "",
      "userId": "03589516125482153588"
     },
     "user_tz": -120
    },
    "id": "iVzhAlfhKoFF"
   },
   "outputs": [],
   "source": [
    "# Tercera capa de MaxPolling\n",
    "\n",
    "#classifier.add(MaxPooling2D(pool_size = (2, 2)))"
   ]
  },
  {
   "cell_type": "code",
   "execution_count": 38,
   "metadata": {
    "executionInfo": {
     "elapsed": 182,
     "status": "ok",
     "timestamp": 1623047834482,
     "user": {
      "displayName": "Oriol Marco",
      "photoUrl": "",
      "userId": "03589516125482153588"
     },
     "user_tz": -120
    },
    "id": "mMQnoK7k-YNZ"
   },
   "outputs": [],
   "source": [
    "# Flattening\n",
    "\n",
    "classifier.add(Flatten())"
   ]
  },
  {
   "cell_type": "code",
   "execution_count": 39,
   "metadata": {
    "executionInfo": {
     "elapsed": 169,
     "status": "ok",
     "timestamp": 1623047835854,
     "user": {
      "displayName": "Oriol Marco",
      "photoUrl": "",
      "userId": "03589516125482153588"
     },
     "user_tz": -120
    },
    "id": "bF9pjW6tAtFl"
   },
   "outputs": [],
   "source": [
    "# Full connection\n",
    "\n",
    "classifier.add(Dense(units = 128, activation = \"relu\"))\n",
    "classifier.add(Dense(units = 1, activation = \"sigmoid\"))"
   ]
  },
  {
   "cell_type": "code",
   "execution_count": 40,
   "metadata": {
    "executionInfo": {
     "elapsed": 3,
     "status": "ok",
     "timestamp": 1623047838461,
     "user": {
      "displayName": "Oriol Marco",
      "photoUrl": "",
      "userId": "03589516125482153588"
     },
     "user_tz": -120
    },
    "id": "7s44LvYCCiCV"
   },
   "outputs": [],
   "source": [
    "# Compilación CNN\n",
    "\n",
    "classifier.compile(optimizer = \"adam\", loss = \"binary_crossentropy\", metrics = [\"accuracy\"])"
   ]
  },
  {
   "cell_type": "code",
   "execution_count": 41,
   "metadata": {
    "executionInfo": {
     "elapsed": 173,
     "status": "ok",
     "timestamp": 1623047841498,
     "user": {
      "displayName": "Oriol Marco",
      "photoUrl": "",
      "userId": "03589516125482153588"
     },
     "user_tz": -120
    },
    "id": "S_tndY_AUu2y"
   },
   "outputs": [],
   "source": [
    "from keras.preprocessing.image import ImageDataGenerator"
   ]
  },
  {
   "cell_type": "code",
   "execution_count": 42,
   "metadata": {
    "colab": {
     "base_uri": "https://localhost:8080/"
    },
    "executionInfo": {
     "elapsed": 635,
     "status": "ok",
     "timestamp": 1623047843724,
     "user": {
      "displayName": "Oriol Marco",
      "photoUrl": "",
      "userId": "03589516125482153588"
     },
     "user_tz": -120
    },
    "id": "epb7SFGjDfd5",
    "outputId": "6bb6106f-c71b-4bef-b2d2-58c47e908120"
   },
   "outputs": [
    {
     "name": "stdout",
     "output_type": "stream",
     "text": [
      "Found 8000 images belonging to 2 classes.\n",
      "Found 2000 images belonging to 2 classes.\n"
     ]
    }
   ],
   "source": [
    "# Ajuste de la CNN a las imágenes para entrenar\n",
    "\n",
    "train_datagen = ImageDataGenerator(\n",
    "        rescale=1./255,\n",
    "        shear_range=0.2,\n",
    "        zoom_range=0.2,\n",
    "        horizontal_flip=True)\n",
    "\n",
    "test_datagen = ImageDataGenerator(rescale=1./255)\n",
    "\n",
    "training_dataset = train_datagen.flow_from_directory(\n",
    "                                                    '/content/drive/MyDrive/01_Oriol/01_Machine Learning/05_deeplearning-az-master/datasets/Part 2 - Convolutional Neural Networks (CNN)/dataset/training_set',\n",
    "                                                    target_size=(64, 64),\n",
    "                                                    batch_size=32,\n",
    "                                                    class_mode='binary')\n",
    "\n",
    "testing_dataset = test_datagen.flow_from_directory(\n",
    "                                                  '/content/drive/MyDrive/01_Oriol/01_Machine Learning/05_deeplearning-az-master/datasets/Part 2 - Convolutional Neural Networks (CNN)/dataset/test_set',\n",
    "                                                  target_size=(64, 64),\n",
    "                                                  batch_size=32,\n",
    "                                                  class_mode='binary')"
   ]
  },
  {
   "cell_type": "code",
   "execution_count": null,
   "metadata": {
    "colab": {
     "base_uri": "https://localhost:8080/"
    },
    "id": "EOsDknGtbO3Y",
    "outputId": "5d259e9b-dd7c-491f-846d-112f0f846d6d"
   },
   "outputs": [
    {
     "name": "stdout",
     "output_type": "stream",
     "text": [
      "Epoch 1/25\n",
      " 58/250 [=====>........................] - ETA: 23:58 - loss: 0.7200 - accuracy: 0.5119"
     ]
    }
   ],
   "source": [
    "classifier.fit(\n",
    "              training_dataset,\n",
    "              steps_per_epoch=8000//32,\n",
    "              epochs= 25,\n",
    "              validation_data= testing_dataset,\n",
    "              validation_steps=2000//32)"
   ]
  },
  {
   "cell_type": "code",
   "execution_count": null,
   "metadata": {
    "id": "21BVobb9Ai69"
   },
   "outputs": [],
   "source": [
    "classifier.save(\"A:/a_Google Drive/01_Oriol/01_Machine Learning/05_deeplearning-az-master/datasets/Part 2 - Convolutional Neural Networks (CNN)/classifier.h5\")"
   ]
  },
  {
   "cell_type": "code",
   "execution_count": null,
   "metadata": {
    "id": "tFM_Ycw9Ai69"
   },
   "outputs": [],
   "source": [
    "# Test predicciones\n",
    "\n",
    "import numpy as np\n",
    "from keras.preprocessing import image\n",
    "\n",
    "test_image = image.load_img('C:/Users/Oriol/Desktop/cat_or_dog_1.jpg', target_size = (64, 64))\n",
    "test_image = image.img_to_array(test_image)\n",
    "test_image = np.expand_dims(test_image, axis = 0)\n",
    "result = classifier.predict(test_image)\n",
    "training_dataset.class_indices\n",
    "if result[0][0] == 1:\n",
    "    prediction = 'dog'\n",
    "else:\n",
    "    prediction = 'cat'"
   ]
  }
 ],
 "metadata": {
  "accelerator": "TPU",
  "colab": {
   "collapsed_sections": [],
   "name": "Schema of Convolutional Neural Network.ipynb",
   "provenance": [
    {
     "file_id": "1CY4ilvqAkqf32C4E4VF-Ck_fq2XCj9u8",
     "timestamp": 1622731867484
    }
   ]
  },
  "kernelspec": {
   "display_name": "Python 3",
   "language": "python",
   "name": "python3"
  },
  "language_info": {
   "codemirror_mode": {
    "name": "ipython",
    "version": 3
   },
   "file_extension": ".py",
   "mimetype": "text/x-python",
   "name": "python",
   "nbconvert_exporter": "python",
   "pygments_lexer": "ipython3",
   "version": "3.8.8"
  }
 },
 "nbformat": 4,
 "nbformat_minor": 4
}
