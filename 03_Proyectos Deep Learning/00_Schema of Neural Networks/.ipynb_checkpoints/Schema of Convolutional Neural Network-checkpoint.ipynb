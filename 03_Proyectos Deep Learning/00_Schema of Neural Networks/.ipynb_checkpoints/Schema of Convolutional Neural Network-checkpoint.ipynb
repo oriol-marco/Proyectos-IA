{
 "cells": [
  {
   "cell_type": "code",
   "execution_count": 2,
   "metadata": {
    "executionInfo": {
     "elapsed": 2473,
     "status": "ok",
     "timestamp": 1622799944100,
     "user": {
      "displayName": "Oriol Marco",
      "photoUrl": "",
      "userId": "03589516125482153588"
     },
     "user_tz": -120
    },
    "id": "j3qELI51T7gL"
   },
   "outputs": [],
   "source": [
    "#Importar librerías y paquetes\n",
    "\n",
    "from keras.models import Sequential\n",
    "from keras.layers import Convolution2D\n",
    "from keras.layers import MaxPooling2D\n",
    "from keras.layers import Flatten\n",
    "from keras.layers import Dense"
   ]
  },
  {
   "cell_type": "code",
   "execution_count": 3,
   "metadata": {
    "executionInfo": {
     "elapsed": 200,
     "status": "ok",
     "timestamp": 1622799946122,
     "user": {
      "displayName": "Oriol Marco",
      "photoUrl": "",
      "userId": "03589516125482153588"
     },
     "user_tz": -120
    },
    "id": "qH-CpKxwULiT"
   },
   "outputs": [],
   "source": [
    "#Inicializar la CNN\n",
    "\n",
    "classifier = Sequential()"
   ]
  },
  {
   "cell_type": "code",
   "execution_count": 4,
   "metadata": {
    "executionInfo": {
     "elapsed": 193,
     "status": "ok",
     "timestamp": 1622799962736,
     "user": {
      "displayName": "Oriol Marco",
      "photoUrl": "",
      "userId": "03589516125482153588"
     },
     "user_tz": -120
    },
    "id": "9lhqMaYmY9Uc"
   },
   "outputs": [],
   "source": [
    "# Convolución:\n",
    "   # Mapa de características (múltiple de 2 por optimización)\n",
    "   # Kernel size convolución\n",
    "   # Input Shape\n",
    "   # Función activación\n",
    "\n",
    "classifier.add(Convolution2D(filters = 32, kernel_size = (3, 3), input_shape = (64, 64, 3), activation = \"relu\"))"
   ]
  },
  {
   "cell_type": "code",
   "execution_count": 5,
   "metadata": {
    "executionInfo": {
     "elapsed": 193,
     "status": "ok",
     "timestamp": 1622799964053,
     "user": {
      "displayName": "Oriol Marco",
      "photoUrl": "",
      "userId": "03589516125482153588"
     },
     "user_tz": -120
    },
    "id": "NUL39_9PneVN"
   },
   "outputs": [],
   "source": [
    "# Max Pooling (dividiendo la matriz de características a la mitad)\n",
    "\n",
    "classifier.add(MaxPooling2D(pool_size = (2, 2)))"
   ]
  },
  {
   "cell_type": "code",
   "execution_count": 6,
   "metadata": {
    "executionInfo": {
     "elapsed": 187,
     "status": "ok",
     "timestamp": 1622799965456,
     "user": {
      "displayName": "Oriol Marco",
      "photoUrl": "",
      "userId": "03589516125482153588"
     },
     "user_tz": -120
    },
    "id": "nwq6kZvHZ95i"
   },
   "outputs": [],
   "source": [
    "classifier.add(Convolution2D(filters = 32, kernel_size = (3, 3), activation = \"relu\"))"
   ]
  },
  {
   "cell_type": "code",
   "execution_count": 7,
   "metadata": {
    "executionInfo": {
     "elapsed": 186,
     "status": "ok",
     "timestamp": 1622799966665,
     "user": {
      "displayName": "Oriol Marco",
      "photoUrl": "",
      "userId": "03589516125482153588"
     },
     "user_tz": -120
    },
    "id": "4I7SjNvfaBQB"
   },
   "outputs": [],
   "source": [
    "classifier.add(MaxPooling2D(pool_size = (2, 2)))"
   ]
  },
  {
   "cell_type": "code",
   "execution_count": 8,
   "metadata": {
    "executionInfo": {
     "elapsed": 190,
     "status": "ok",
     "timestamp": 1622799968496,
     "user": {
      "displayName": "Oriol Marco",
      "photoUrl": "",
      "userId": "03589516125482153588"
     },
     "user_tz": -120
    },
    "id": "mMQnoK7k-YNZ"
   },
   "outputs": [],
   "source": [
    "# Flattening\n",
    "\n",
    "classifier.add(Flatten())"
   ]
  },
  {
   "cell_type": "code",
   "execution_count": 9,
   "metadata": {
    "executionInfo": {
     "elapsed": 180,
     "status": "ok",
     "timestamp": 1622799970423,
     "user": {
      "displayName": "Oriol Marco",
      "photoUrl": "",
      "userId": "03589516125482153588"
     },
     "user_tz": -120
    },
    "id": "bF9pjW6tAtFl"
   },
   "outputs": [],
   "source": [
    "# Full connection\n",
    "\n",
    "classifier.add(Dense(units = 128, activation = \"relu\"))\n",
    "classifier.add(Dense(units = 1, activation = \"sigmoid\"))"
   ]
  },
  {
   "cell_type": "code",
   "execution_count": 10,
   "metadata": {
    "executionInfo": {
     "elapsed": 196,
     "status": "ok",
     "timestamp": 1622799972422,
     "user": {
      "displayName": "Oriol Marco",
      "photoUrl": "",
      "userId": "03589516125482153588"
     },
     "user_tz": -120
    },
    "id": "7s44LvYCCiCV"
   },
   "outputs": [],
   "source": [
    "# Compilación CNN\n",
    "\n",
    "classifier.compile(optimizer = \"adam\", loss = \"binary_crossentropy\", metrics = [\"accuracy\"])"
   ]
  },
  {
   "cell_type": "code",
   "execution_count": 11,
   "metadata": {
    "colab": {
     "base_uri": "https://localhost:8080/"
    },
    "executionInfo": {
     "elapsed": 17363,
     "status": "ok",
     "timestamp": 1622799991712,
     "user": {
      "displayName": "Oriol Marco",
      "photoUrl": "",
      "userId": "03589516125482153588"
     },
     "user_tz": -120
    },
    "id": "l_Pk46nvT3Gr",
    "outputId": "fbf9cf0e-2465-4c10-cf8b-5493fbd349e0"
   },
   "outputs": [],
   "source": [
    "# Montar disco usando los siguientes comandos:\n",
    "\n",
    "#from google.colab import drive\n",
    "#drive.mount('/content/drive')"
   ]
  },
  {
   "cell_type": "code",
   "execution_count": 12,
   "metadata": {
    "executionInfo": {
     "elapsed": 235,
     "status": "ok",
     "timestamp": 1622799996998,
     "user": {
      "displayName": "Oriol Marco",
      "photoUrl": "",
      "userId": "03589516125482153588"
     },
     "user_tz": -120
    },
    "id": "S_tndY_AUu2y"
   },
   "outputs": [],
   "source": [
    "from keras.preprocessing.image import ImageDataGenerator"
   ]
  },
  {
   "cell_type": "code",
   "execution_count": 14,
   "metadata": {
    "colab": {
     "base_uri": "https://localhost:8080/"
    },
    "executionInfo": {
     "elapsed": 492,
     "status": "ok",
     "timestamp": 1622800150462,
     "user": {
      "displayName": "Oriol Marco",
      "photoUrl": "",
      "userId": "03589516125482153588"
     },
     "user_tz": -120
    },
    "id": "epb7SFGjDfd5",
    "outputId": "10eb78bd-f52d-4c93-8b61-364880179357"
   },
   "outputs": [
    {
     "name": "stdout",
     "output_type": "stream",
     "text": [
      "Found 8000 images belonging to 2 classes.\n",
      "Found 2000 images belonging to 2 classes.\n"
     ]
    }
   ],
   "source": [
    "# Ajuste de la CNN a las imágenes para entrenar\n",
    "\n",
    "train_datagen = ImageDataGenerator(\n",
    "        rescale=1./255,\n",
    "        shear_range=0.2,\n",
    "        zoom_range=0.2,\n",
    "        horizontal_flip=True)\n",
    "\n",
    "test_datagen = ImageDataGenerator(rescale=1./255)\n",
    "\n",
    "training_dataset = train_datagen.flow_from_directory(\n",
    "                                                    'A:/a_Google Drive/01_Oriol/01_Machine Learning/05_deeplearning-az-master/datasets/Part 2 - Convolutional Neural Networks (CNN)/dataset/training_set',\n",
    "                                                    target_size=(64, 64),\n",
    "                                                    batch_size=32,\n",
    "                                                    class_mode='binary')\n",
    "\n",
    "testing_dataset = test_datagen.flow_from_directory(\n",
    "                                                  'A:/a_Google Drive/01_Oriol/01_Machine Learning/05_deeplearning-az-master/datasets/Part 2 - Convolutional Neural Networks (CNN)/dataset/test_set',\n",
    "                                                  target_size=(64, 64),\n",
    "                                                  batch_size=32,\n",
    "                                                  class_mode='binary')"
   ]
  },
  {
   "cell_type": "code",
   "execution_count": 16,
   "metadata": {
    "id": "EOsDknGtbO3Y"
   },
   "outputs": [
    {
     "name": "stdout",
     "output_type": "stream",
     "text": [
      "Epoch 1/25\n",
      "250/250 [==============================] - 37s 149ms/step - loss: 0.5885 - accuracy: 0.6888 - val_loss: 0.5578 - val_accuracy: 0.7067\n",
      "Epoch 2/25\n",
      "250/250 [==============================] - 37s 147ms/step - loss: 0.5522 - accuracy: 0.7100 - val_loss: 0.5353 - val_accuracy: 0.7440\n",
      "Epoch 3/25\n",
      "250/250 [==============================] - 36s 145ms/step - loss: 0.5240 - accuracy: 0.7384 - val_loss: 0.5252 - val_accuracy: 0.7445\n",
      "Epoch 4/25\n",
      "250/250 [==============================] - 36s 145ms/step - loss: 0.4991 - accuracy: 0.7527 - val_loss: 0.4749 - val_accuracy: 0.7777\n",
      "Epoch 5/25\n",
      "250/250 [==============================] - 36s 143ms/step - loss: 0.4773 - accuracy: 0.7667 - val_loss: 0.4813 - val_accuracy: 0.7762\n",
      "Epoch 6/25\n",
      "250/250 [==============================] - 36s 144ms/step - loss: 0.4760 - accuracy: 0.7706 - val_loss: 0.4874 - val_accuracy: 0.7762\n",
      "Epoch 7/25\n",
      "250/250 [==============================] - 36s 144ms/step - loss: 0.4561 - accuracy: 0.7812 - val_loss: 0.4673 - val_accuracy: 0.7787\n",
      "Epoch 8/25\n",
      "250/250 [==============================] - 36s 144ms/step - loss: 0.4442 - accuracy: 0.7890 - val_loss: 0.4547 - val_accuracy: 0.7883\n",
      "Epoch 9/25\n",
      "250/250 [==============================] - 36s 145ms/step - loss: 0.4307 - accuracy: 0.7990 - val_loss: 0.4780 - val_accuracy: 0.7863\n",
      "Epoch 10/25\n",
      "250/250 [==============================] - 37s 146ms/step - loss: 0.4167 - accuracy: 0.8046 - val_loss: 0.4718 - val_accuracy: 0.7878\n",
      "Epoch 11/25\n",
      "250/250 [==============================] - 37s 149ms/step - loss: 0.4054 - accuracy: 0.8119 - val_loss: 0.4524 - val_accuracy: 0.7954\n",
      "Epoch 12/25\n",
      "250/250 [==============================] - 37s 146ms/step - loss: 0.3951 - accuracy: 0.8180 - val_loss: 0.4461 - val_accuracy: 0.8004\n",
      "Epoch 13/25\n",
      "250/250 [==============================] - 38s 151ms/step - loss: 0.3923 - accuracy: 0.8217 - val_loss: 0.4631 - val_accuracy: 0.8019\n",
      "Epoch 14/25\n",
      "250/250 [==============================] - 36s 146ms/step - loss: 0.3689 - accuracy: 0.8360 - val_loss: 0.4828 - val_accuracy: 0.7767\n",
      "Epoch 15/25\n",
      "250/250 [==============================] - 38s 151ms/step - loss: 0.3557 - accuracy: 0.8425 - val_loss: 0.4710 - val_accuracy: 0.8095\n",
      "Epoch 16/25\n",
      "250/250 [==============================] - 37s 147ms/step - loss: 0.3402 - accuracy: 0.8495 - val_loss: 0.4229 - val_accuracy: 0.8191\n",
      "Epoch 17/25\n",
      "250/250 [==============================] - 38s 151ms/step - loss: 0.3405 - accuracy: 0.8496 - val_loss: 0.4442 - val_accuracy: 0.8125\n",
      "Epoch 18/25\n",
      "250/250 [==============================] - 35s 140ms/step - loss: 0.3181 - accuracy: 0.8625 - val_loss: 0.4481 - val_accuracy: 0.8065\n",
      "Epoch 19/25\n",
      "250/250 [==============================] - 37s 147ms/step - loss: 0.3059 - accuracy: 0.8666 - val_loss: 0.4750 - val_accuracy: 0.8004\n",
      "Epoch 20/25\n",
      "250/250 [==============================] - 35s 139ms/step - loss: 0.2903 - accuracy: 0.8740 - val_loss: 0.4758 - val_accuracy: 0.8070\n",
      "Epoch 21/25\n",
      "250/250 [==============================] - 35s 140ms/step - loss: 0.2823 - accuracy: 0.8759 - val_loss: 0.5265 - val_accuracy: 0.7969\n",
      "Epoch 22/25\n",
      "250/250 [==============================] - 35s 140ms/step - loss: 0.2733 - accuracy: 0.8816 - val_loss: 0.4820 - val_accuracy: 0.8155\n",
      "Epoch 23/25\n",
      "250/250 [==============================] - 35s 140ms/step - loss: 0.2614 - accuracy: 0.8900 - val_loss: 0.4674 - val_accuracy: 0.8120\n",
      "Epoch 24/25\n",
      "250/250 [==============================] - 35s 140ms/step - loss: 0.2458 - accuracy: 0.8976 - val_loss: 0.4847 - val_accuracy: 0.8175\n",
      "Epoch 25/25\n",
      "250/250 [==============================] - 35s 138ms/step - loss: 0.2402 - accuracy: 0.9020 - val_loss: 0.4958 - val_accuracy: 0.8180\n"
     ]
    },
    {
     "data": {
      "text/plain": [
       "<keras.callbacks.History at 0x176f94a9a90>"
      ]
     },
     "execution_count": 16,
     "metadata": {},
     "output_type": "execute_result"
    }
   ],
   "source": [
    "classifier.fit(\n",
    "              training_dataset,\n",
    "              steps_per_epoch=8000//32,\n",
    "              epochs= 25,\n",
    "              validation_data= testing_dataset,\n",
    "              validation_steps=2000//32)"
   ]
  },
  {
   "cell_type": "code",
   "execution_count": 17,
   "metadata": {},
   "outputs": [],
   "source": [
    "classifier.save(\"A:/a_Google Drive/01_Oriol/01_Machine Learning/05_deeplearning-az-master/datasets/Part 2 - Convolutional Neural Networks (CNN)/classifier.h5\")"
   ]
  },
  {
   "cell_type": "code",
   "execution_count": null,
   "metadata": {},
   "outputs": [],
   "source": []
  }
 ],
 "metadata": {
  "accelerator": "TPU",
  "colab": {
   "authorship_tag": "ABX9TyNllv4HDLVYzMZftTvd++uW",
   "collapsed_sections": [],
   "name": "Schema of Convolutional Neural Network.ipynb",
   "provenance": [
    {
     "file_id": "1CY4ilvqAkqf32C4E4VF-Ck_fq2XCj9u8",
     "timestamp": 1622731867484
    }
   ]
  },
  "kernelspec": {
   "display_name": "Python 3",
   "language": "python",
   "name": "python3"
  },
  "language_info": {
   "codemirror_mode": {
    "name": "ipython",
    "version": 3
   },
   "file_extension": ".py",
   "mimetype": "text/x-python",
   "name": "python",
   "nbconvert_exporter": "python",
   "pygments_lexer": "ipython3",
   "version": "3.8.5"
  }
 },
 "nbformat": 4,
 "nbformat_minor": 1
}
