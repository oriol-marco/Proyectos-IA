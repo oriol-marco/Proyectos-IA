{
 "cells": [
  {
   "cell_type": "markdown",
   "id": "4cd8218b-7c8a-4d6e-888a-fd2f08946885",
   "metadata": {},
   "source": [
    "# Instalar Theano"
   ]
  },
  {
   "cell_type": "code",
   "execution_count": 1,
   "id": "e7381bf3-d96f-4bec-af78-b4c083d727ed",
   "metadata": {},
   "outputs": [
    {
     "name": "stdout",
     "output_type": "stream",
     "text": [
      "Collecting git+git://github.com/Theano/Theano.git\n",
      "  Cloning git://github.com/Theano/Theano.git to c:\\users\\oriol\\appdata\\local\\temp\\pip-req-build-agbfk9k8\n",
      "Building wheels for collected packages: Theano\n",
      "  Building wheel for Theano (setup.py): started\n",
      "  Building wheel for Theano (setup.py): finished with status 'done'\n",
      "  Created wheel for Theano: filename=Theano-1.0.5+4.gc5abd7b69-py3-none-any.whl size=2681445 sha256=92221b565ceaa2dd07583d7df6cc04c56feb70c138a14ac9cefb2215ceabc74f\n",
      "  Stored in directory: C:\\Users\\Oriol\\AppData\\Local\\Temp\\pip-ephem-wheel-cache-lywx24jn\\wheels\\8b\\00\\4b\\8447c44e506676c90f88cce84840acfef30bace41499422025\n",
      "Successfully built Theano\n",
      "Installing collected packages: Theano\n",
      "Successfully installed Theano-1.0.5+4.gc5abd7b69\n"
     ]
    },
    {
     "name": "stderr",
     "output_type": "stream",
     "text": [
      "  Running command git clone -q git://github.com/Theano/Theano.git 'C:\\Users\\Oriol\\AppData\\Local\\Temp\\pip-req-build-agbfk9k8'\n"
     ]
    }
   ],
   "source": [
    "!pip install --upgrade --no-deps git+git://github.com/Theano/Theano.git"
   ]
  },
  {
   "cell_type": "markdown",
   "id": "bdf1eb0f-3c54-4bc0-b734-2baf446c7c86",
   "metadata": {},
   "source": [
    "# Importar librerías"
   ]
  },
  {
   "cell_type": "code",
   "execution_count": 3,
   "id": "55aea3fd-ffe9-4bb7-8167-67a658316af2",
   "metadata": {},
   "outputs": [],
   "source": [
    "import numpy as np\n",
    "import matplotlib.pyplot as plt\n",
    "import pandas as pd"
   ]
  },
  {
   "cell_type": "markdown",
   "id": "dd7e4571-d7e0-41d6-9ebd-b858e0ed3e03",
   "metadata": {},
   "source": [
    "# Importar el dataset"
   ]
  },
  {
   "cell_type": "code",
   "execution_count": 4,
   "id": "d9e7c039-f2aa-4077-ac7a-133770da133e",
   "metadata": {},
   "outputs": [],
   "source": [
    "dataset = pd.read_csv('A:/a_Google Drive/01_Oriol/01_Machine Learning/05_deeplearning-az-master/datasets/Part 4 - Self Organizing Maps (SOM)/Credit_Card_Applications.csv')\n",
    "\n",
    "X = dataset.iloc[:, :-1].values\n",
    "y = dataset.iloc[:, -1].values"
   ]
  },
  {
   "cell_type": "code",
   "execution_count": 5,
   "id": "8ab9a6f0-acbb-4506-9a36-51bbb6584965",
   "metadata": {},
   "outputs": [
    {
     "data": {
      "text/html": [
       "<div>\n",
       "<style scoped>\n",
       "    .dataframe tbody tr th:only-of-type {\n",
       "        vertical-align: middle;\n",
       "    }\n",
       "\n",
       "    .dataframe tbody tr th {\n",
       "        vertical-align: top;\n",
       "    }\n",
       "\n",
       "    .dataframe thead th {\n",
       "        text-align: right;\n",
       "    }\n",
       "</style>\n",
       "<table border=\"1\" class=\"dataframe\">\n",
       "  <thead>\n",
       "    <tr style=\"text-align: right;\">\n",
       "      <th></th>\n",
       "      <th>CustomerID</th>\n",
       "      <th>A1</th>\n",
       "      <th>A2</th>\n",
       "      <th>A3</th>\n",
       "      <th>A4</th>\n",
       "      <th>A5</th>\n",
       "      <th>A6</th>\n",
       "      <th>A7</th>\n",
       "      <th>A8</th>\n",
       "      <th>A9</th>\n",
       "      <th>A10</th>\n",
       "      <th>A11</th>\n",
       "      <th>A12</th>\n",
       "      <th>A13</th>\n",
       "      <th>A14</th>\n",
       "      <th>Class</th>\n",
       "    </tr>\n",
       "  </thead>\n",
       "  <tbody>\n",
       "    <tr>\n",
       "      <th>0</th>\n",
       "      <td>15776156</td>\n",
       "      <td>1</td>\n",
       "      <td>22.08</td>\n",
       "      <td>11.46</td>\n",
       "      <td>2</td>\n",
       "      <td>4</td>\n",
       "      <td>4</td>\n",
       "      <td>1.585</td>\n",
       "      <td>0</td>\n",
       "      <td>0</td>\n",
       "      <td>0</td>\n",
       "      <td>1</td>\n",
       "      <td>2</td>\n",
       "      <td>100</td>\n",
       "      <td>1213</td>\n",
       "      <td>0</td>\n",
       "    </tr>\n",
       "    <tr>\n",
       "      <th>1</th>\n",
       "      <td>15739548</td>\n",
       "      <td>0</td>\n",
       "      <td>22.67</td>\n",
       "      <td>7.00</td>\n",
       "      <td>2</td>\n",
       "      <td>8</td>\n",
       "      <td>4</td>\n",
       "      <td>0.165</td>\n",
       "      <td>0</td>\n",
       "      <td>0</td>\n",
       "      <td>0</td>\n",
       "      <td>0</td>\n",
       "      <td>2</td>\n",
       "      <td>160</td>\n",
       "      <td>1</td>\n",
       "      <td>0</td>\n",
       "    </tr>\n",
       "    <tr>\n",
       "      <th>2</th>\n",
       "      <td>15662854</td>\n",
       "      <td>0</td>\n",
       "      <td>29.58</td>\n",
       "      <td>1.75</td>\n",
       "      <td>1</td>\n",
       "      <td>4</td>\n",
       "      <td>4</td>\n",
       "      <td>1.250</td>\n",
       "      <td>0</td>\n",
       "      <td>0</td>\n",
       "      <td>0</td>\n",
       "      <td>1</td>\n",
       "      <td>2</td>\n",
       "      <td>280</td>\n",
       "      <td>1</td>\n",
       "      <td>0</td>\n",
       "    </tr>\n",
       "    <tr>\n",
       "      <th>3</th>\n",
       "      <td>15687688</td>\n",
       "      <td>0</td>\n",
       "      <td>21.67</td>\n",
       "      <td>11.50</td>\n",
       "      <td>1</td>\n",
       "      <td>5</td>\n",
       "      <td>3</td>\n",
       "      <td>0.000</td>\n",
       "      <td>1</td>\n",
       "      <td>1</td>\n",
       "      <td>11</td>\n",
       "      <td>1</td>\n",
       "      <td>2</td>\n",
       "      <td>0</td>\n",
       "      <td>1</td>\n",
       "      <td>1</td>\n",
       "    </tr>\n",
       "    <tr>\n",
       "      <th>4</th>\n",
       "      <td>15715750</td>\n",
       "      <td>1</td>\n",
       "      <td>20.17</td>\n",
       "      <td>8.17</td>\n",
       "      <td>2</td>\n",
       "      <td>6</td>\n",
       "      <td>4</td>\n",
       "      <td>1.960</td>\n",
       "      <td>1</td>\n",
       "      <td>1</td>\n",
       "      <td>14</td>\n",
       "      <td>0</td>\n",
       "      <td>2</td>\n",
       "      <td>60</td>\n",
       "      <td>159</td>\n",
       "      <td>1</td>\n",
       "    </tr>\n",
       "  </tbody>\n",
       "</table>\n",
       "</div>"
      ],
      "text/plain": [
       "   CustomerID  A1     A2     A3  A4  A5  A6     A7  A8  A9  A10  A11  A12  \\\n",
       "0    15776156   1  22.08  11.46   2   4   4  1.585   0   0    0    1    2   \n",
       "1    15739548   0  22.67   7.00   2   8   4  0.165   0   0    0    0    2   \n",
       "2    15662854   0  29.58   1.75   1   4   4  1.250   0   0    0    1    2   \n",
       "3    15687688   0  21.67  11.50   1   5   3  0.000   1   1   11    1    2   \n",
       "4    15715750   1  20.17   8.17   2   6   4  1.960   1   1   14    0    2   \n",
       "\n",
       "   A13   A14  Class  \n",
       "0  100  1213      0  \n",
       "1  160     1      0  \n",
       "2  280     1      0  \n",
       "3    0     1      1  \n",
       "4   60   159      1  "
      ]
     },
     "execution_count": 5,
     "metadata": {},
     "output_type": "execute_result"
    }
   ],
   "source": [
    "dataset.head()"
   ]
  },
  {
   "cell_type": "markdown",
   "id": "433019db-c49c-4fd4-8c55-b7ba4825699c",
   "metadata": {},
   "source": [
    "# Escalado de características"
   ]
  },
  {
   "cell_type": "code",
   "execution_count": 6,
   "id": "2d7bcde3-4387-45f6-8b3a-4f347c6a19bf",
   "metadata": {},
   "outputs": [],
   "source": [
    "from sklearn.preprocessing import MinMaxScaler\n",
    "sc = MinMaxScaler(feature_range = (0, 1))\n",
    "X = sc.fit_transform(X)"
   ]
  },
  {
   "cell_type": "markdown",
   "id": "ebc770a9-7bec-4740-a7f6-d8f2dd6d949f",
   "metadata": {},
   "source": [
    "# Entrenar el SOM"
   ]
  },
  {
   "cell_type": "code",
   "execution_count": 7,
   "id": "510cf1f2-ffd0-4d98-a95e-0228c20e9432",
   "metadata": {},
   "outputs": [],
   "source": [
    "import sys\n",
    "sys.path.append('A:/a_Google Drive/01_Oriol/01_Machine Learning/05_deeplearning-az-master/datasets/Part 4 - Self Organizing Maps (SOM)')\n",
    "\n",
    "from minisom import MiniSom\n",
    "\n",
    "som = MiniSom(x = 10, y = 10, input_len = 15, sigma = 1.0, learning_rate = 0.5)\n",
    "som.random_weights_init(X)\n",
    "som.train_random(data = X, num_iteration = 100)"
   ]
  },
  {
   "cell_type": "markdown",
   "id": "c4020962-eb35-429e-9e07-c119732afa10",
   "metadata": {},
   "source": [
    "# Visualizar los resultados"
   ]
  },
  {
   "cell_type": "code",
   "execution_count": 8,
   "id": "e106b561-ac6e-4dbd-993a-d0fe417510a0",
   "metadata": {},
   "outputs": [
    {
     "data": {
      "image/png": "[encoded data removed]",
      "text/plain": [
       "<Figure size 432x288 with 2 Axes>"
      ]
     },
     "metadata": {
      "needs_background": "light"
     },
     "output_type": "display_data"
    }
   ],
   "source": [
    "from pylab import bone, pcolor, colorbar, plot, show\n",
    "\n",
    "bone()\n",
    "pcolor(som.distance_map().T)\n",
    "colorbar()\n",
    "markers = ['o', 's']\n",
    "colors = ['r', 'g']\n",
    "for i, x in enumerate(X):\n",
    "    w = som.winner(x)\n",
    "    plot(w[0]+0.5, w[1]+0.5,\n",
    "         markers[y[i]], markeredgecolor = colors[y[i]], markerfacecolor = 'None', \n",
    "         markersize = 10, markeredgewidth = 2)\n",
    "show()"
   ]
  },
  {
   "cell_type": "markdown",
   "id": "23e3b251-d78d-45b1-be55-86f86b6ee202",
   "metadata": {},
   "source": [
    "# Determinar los fraudes"
   ]
  },
  {
   "cell_type": "code",
   "execution_count": null,
   "id": "40e76b56-23fd-45fe-9158-4a9f79b7818e",
   "metadata": {
    "scrolled": true,
    "tags": []
   },
   "outputs": [],
   "source": [
    "mappings = som.win_map(X)\n",
    "frauds = np.concatenate( (mappings[(6,1)], mappings[(7,8)]), axis = 0 )\n",
    "frauds = sc.inverse_transform(frauds)"
   ]
  }
 ],
 "metadata": {
  "kernelspec": {
   "display_name": "Python 3",
   "language": "python",
   "name": "python3"
  },
  "language_info": {
   "codemirror_mode": {
    "name": "ipython",
    "version": 3
   },
   "file_extension": ".py",
   "mimetype": "text/x-python",
   "name": "python",
   "nbconvert_exporter": "python",
   "pygments_lexer": "ipython3",
   "version": "3.8.8"
  }
 },
 "nbformat": 4,
 "nbformat_minor": 5
}
