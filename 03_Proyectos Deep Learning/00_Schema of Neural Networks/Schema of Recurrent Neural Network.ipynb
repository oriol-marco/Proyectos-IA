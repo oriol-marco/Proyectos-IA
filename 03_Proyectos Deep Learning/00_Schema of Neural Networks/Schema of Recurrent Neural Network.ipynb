{
 "cells": [
  {
   "cell_type": "markdown",
   "id": "25cd41f2-4e8a-4a11-b228-8c79b8bd6282",
   "metadata": {},
   "source": [
    "# Parte 1 - Preprocesamiento de datos"
   ]
  },
  {
   "cell_type": "markdown",
   "id": "ba6419d4-354e-4627-8de7-1dce5345c371",
   "metadata": {},
   "source": [
    "## Importación de las bibliotecas"
   ]
  },
  {
   "cell_type": "code",
   "execution_count": 2,
   "id": "b56dce27-1980-45b9-a98d-ea868b1b8d7b",
   "metadata": {},
   "outputs": [],
   "source": [
    "import numpy as np\n",
    "import matplotlib.pyplot as plt\n",
    "import pandas as pd"
   ]
  },
  {
   "cell_type": "markdown",
   "id": "ce243570-1031-453a-9f77-f7264b02e23b",
   "metadata": {},
   "source": [
    "## Importando el set de entrenamiento"
   ]
  },
  {
   "cell_type": "code",
   "execution_count": 3,
   "id": "0a3cca61-baf6-492b-8308-514707591864",
   "metadata": {},
   "outputs": [],
   "source": [
    "dataset_train = pd.read_csv('A:/a_Google Drive/01_Oriol/01_Machine Learning/05_deeplearning-az-master/datasets/Part 3 - Recurrent Neural Networks (RNN)/Google_Stock_Price_Train.csv')\n",
    "training_set = dataset_train.iloc[:, 1:2].values"
   ]
  },
  {
   "cell_type": "code",
   "execution_count": 4,
   "id": "9c07f512-a334-47bb-b502-2ffa544b5a8b",
   "metadata": {},
   "outputs": [
    {
     "data": {
      "text/plain": [
       "array([[325.25],\n",
       "       [331.27],\n",
       "       [329.83],\n",
       "       ...,\n",
       "       [793.7 ],\n",
       "       [783.33],\n",
       "       [782.75]])"
      ]
     },
     "execution_count": 4,
     "metadata": {},
     "output_type": "execute_result"
    }
   ],
   "source": [
    "training_set"
   ]
  },
  {
   "cell_type": "markdown",
   "id": "18e9c227-34f0-44c4-be1c-1042978b3db9",
   "metadata": {},
   "source": [
    "## Escalado de características (normalización)"
   ]
  },
  {
   "cell_type": "code",
   "execution_count": 5,
   "id": "41dbcdf6-acb6-40f0-8456-e5d7d203ba2e",
   "metadata": {},
   "outputs": [],
   "source": [
    "from sklearn.preprocessing import MinMaxScaler\n",
    "\n",
    "sc = MinMaxScaler(feature_range = (0, 1))\n",
    "training_set_scaled = sc.fit_transform(training_set)"
   ]
  },
  {
   "cell_type": "code",
   "execution_count": 6,
   "id": "1ff039f9-acb2-4846-b189-b8f5123eb8dc",
   "metadata": {},
   "outputs": [
    {
     "data": {
      "text/plain": [
       "array([[0.08581368],\n",
       "       [0.09701243],\n",
       "       [0.09433366],\n",
       "       ...,\n",
       "       [0.95725128],\n",
       "       [0.93796041],\n",
       "       [0.93688146]])"
      ]
     },
     "execution_count": 6,
     "metadata": {},
     "output_type": "execute_result"
    }
   ],
   "source": [
    "training_set_scaled"
   ]
  },
  {
   "cell_type": "markdown",
   "id": "7aac4a88-b69e-420f-8090-e7aeffdba320",
   "metadata": {},
   "source": [
    "## Creación de una estructura de datos con 60 pasos de tiempo y 1 salida para la columna de apertura de mercado diario"
   ]
  },
  {
   "cell_type": "code",
   "execution_count": 7,
   "id": "4842437c-1a79-4f2b-b658-e8a4fb62ff97",
   "metadata": {},
   "outputs": [],
   "source": [
    "X_train = []\n",
    "y_train = []\n",
    "\n",
    "for i in range(60, 1258):\n",
    "    X_train.append(training_set_scaled[i-60:i, 0])\n",
    "    y_train.append(training_set_scaled[i, 0])\n",
    "    \n",
    "X_train, y_train = np.array(X_train), np.array(y_train)"
   ]
  },
  {
   "cell_type": "code",
   "execution_count": 8,
   "id": "b2305296-b4d7-4f08-add5-0fc06f017482",
   "metadata": {},
   "outputs": [
    {
     "data": {
      "text/plain": [
       "array([[0.08581368, 0.09701243, 0.09433366, ..., 0.07846566, 0.08034452,\n",
       "        0.08497656],\n",
       "       [0.09701243, 0.09433366, 0.09156187, ..., 0.08034452, 0.08497656,\n",
       "        0.08627874],\n",
       "       [0.09433366, 0.09156187, 0.07984225, ..., 0.08497656, 0.08627874,\n",
       "        0.08471612],\n",
       "       ...,\n",
       "       [0.92106928, 0.92438053, 0.93048218, ..., 0.95475854, 0.95204256,\n",
       "        0.95163331],\n",
       "       [0.92438053, 0.93048218, 0.9299055 , ..., 0.95204256, 0.95163331,\n",
       "        0.95725128],\n",
       "       [0.93048218, 0.9299055 , 0.93113327, ..., 0.95163331, 0.95725128,\n",
       "        0.93796041]])"
      ]
     },
     "execution_count": 8,
     "metadata": {},
     "output_type": "execute_result"
    }
   ],
   "source": [
    "X_train"
   ]
  },
  {
   "cell_type": "markdown",
   "id": "1dd8fffb-5de8-4f3d-923f-729d03470aba",
   "metadata": {},
   "source": [
    "## Redimensionamiento de los datos (tensor)"
   ]
  },
  {
   "cell_type": "code",
   "execution_count": 9,
   "id": "971854b3-ff40-473d-adcb-8160ec164da3",
   "metadata": {},
   "outputs": [],
   "source": [
    "X_train = np.reshape(X_train, (X_train.shape[0], X_train.shape[1], 1))"
   ]
  },
  {
   "cell_type": "markdown",
   "id": "2e44a213-4d8b-40d5-92a1-db0c57b6fed3",
   "metadata": {},
   "source": [
    "# Parte 2 - Construyendo la RNN"
   ]
  },
  {
   "cell_type": "markdown",
   "id": "16f3ce1d-b38e-4e2e-8808-c4908a2cf0c1",
   "metadata": {},
   "source": [
    "## Importación de las librerías y paquetes Keras"
   ]
  },
  {
   "cell_type": "code",
   "execution_count": 10,
   "id": "7d15f85e-86c5-4244-ae5d-01dfb6bb230e",
   "metadata": {},
   "outputs": [],
   "source": [
    "from keras.models import Sequential\n",
    "from keras.layers import Dense, LSTM, Dropout"
   ]
  },
  {
   "cell_type": "markdown",
   "id": "9b88171e-9c50-4e9a-9251-532af13de2bb",
   "metadata": {},
   "source": [
    "## Inicialización del modelo"
   ]
  },
  {
   "cell_type": "code",
   "execution_count": 11,
   "id": "9ef79bc0-34cc-4966-8d7c-629c37687096",
   "metadata": {},
   "outputs": [],
   "source": [
    "regressor = Sequential()"
   ]
  },
  {
   "cell_type": "markdown",
   "id": "3be308bb-73ca-4a7f-bf8d-0c3bd115dc13",
   "metadata": {},
   "source": [
    "## Primera capa de LSTM y algo de regularización de la deserción"
   ]
  },
  {
   "cell_type": "code",
   "execution_count": 13,
   "id": "f60fb376-40ab-4d47-ac56-ce9cb9a88e0f",
   "metadata": {},
   "outputs": [],
   "source": [
    "regressor.add(LSTM(units = 50, return_sequences = True, input_shape = (X_train.shape[1], 1) ))\n",
    "regressor.add(Dropout(0.2))"
   ]
  },
  {
   "cell_type": "markdown",
   "id": "29525d6b-8354-4a72-8a9e-1b1f1c5dfcc6",
   "metadata": {},
   "source": [
    "## Segunda capa de LSTM"
   ]
  },
  {
   "cell_type": "code",
   "execution_count": 16,
   "id": "fa39fb65-c168-4744-a38a-86521a3ce48d",
   "metadata": {},
   "outputs": [],
   "source": [
    "regressor.add(LSTM(units = 50, return_sequences = True))\n",
    "regressor.add(Dropout(0.2))"
   ]
  },
  {
   "cell_type": "markdown",
   "id": "f1baccb9-394d-4778-a5b3-375cc3278706",
   "metadata": {},
   "source": [
    "## Tercera capa de LSTM"
   ]
  },
  {
   "cell_type": "code",
   "execution_count": 17,
   "id": "9b00a31f-29c5-445b-91b4-72f292b53cb2",
   "metadata": {},
   "outputs": [],
   "source": [
    "regressor.add(LSTM(units = 50, return_sequences = True))\n",
    "regressor.add(Dropout(0.2))"
   ]
  },
  {
   "cell_type": "markdown",
   "id": "fe891560-d772-43bd-86c6-74b07f70fd76",
   "metadata": {},
   "source": [
    "## Cuarta capa de LSTM"
   ]
  },
  {
   "cell_type": "code",
   "execution_count": 18,
   "id": "23926303-15c9-41db-9e73-3e7998f86700",
   "metadata": {},
   "outputs": [],
   "source": [
    "regressor.add(LSTM(units = 50))\n",
    "regressor.add(Dropout(0.2))"
   ]
  },
  {
   "cell_type": "markdown",
   "id": "ecf14544-db5b-4f4f-81b5-10df27fc3738",
   "metadata": {},
   "source": [
    "## Capa de salida"
   ]
  },
  {
   "cell_type": "code",
   "execution_count": 19,
   "id": "debb7113-36de-4c63-96f2-8474b43bb911",
   "metadata": {},
   "outputs": [],
   "source": [
    "regressor.add(Dense(units = 1))"
   ]
  },
  {
   "cell_type": "markdown",
   "id": "938b4e0f-4918-4545-97d0-b53bb010b532",
   "metadata": {},
   "source": [
    "## Compilar la RNN"
   ]
  },
  {
   "cell_type": "code",
   "execution_count": 20,
   "id": "fb881063-cf15-408d-8f8a-0b4c9cff8c23",
   "metadata": {},
   "outputs": [],
   "source": [
    "regressor.compile(optimizer = 'Adam', loss = 'mean_squared_error')"
   ]
  },
  {
   "cell_type": "markdown",
   "id": "05305fdd-9a81-4827-84be-93172e2a9ccb",
   "metadata": {},
   "source": [
    "## Ajustar la RNN al conjunto de entrenamiento"
   ]
  },
  {
   "cell_type": "code",
   "execution_count": 21,
   "id": "f99b16d4-40cd-4578-a223-782fe8822c7b",
   "metadata": {},
   "outputs": [
    {
     "name": "stdout",
     "output_type": "stream",
     "text": [
      "Epoch 1/100\n",
      "38/38 [==============================] - 2s 50ms/step - loss: 0.0509\n",
      "Epoch 2/100\n",
      "38/38 [==============================] - 2s 49ms/step - loss: 0.0066\n",
      "Epoch 3/100\n",
      "38/38 [==============================] - 2s 50ms/step - loss: 0.0054\n",
      "Epoch 4/100\n",
      "38/38 [==============================] - 2s 51ms/step - loss: 0.0052\n",
      "Epoch 5/100\n",
      "38/38 [==============================] - 2s 51ms/step - loss: 0.0051\n",
      "Epoch 6/100\n",
      "38/38 [==============================] - 2s 52ms/step - loss: 0.0045\n",
      "Epoch 7/100\n",
      "38/38 [==============================] - 2s 51ms/step - loss: 0.0045\n",
      "Epoch 8/100\n",
      "38/38 [==============================] - 2s 52ms/step - loss: 0.0044\n",
      "Epoch 9/100\n",
      "38/38 [==============================] - 2s 52ms/step - loss: 0.0046\n",
      "Epoch 10/100\n",
      "38/38 [==============================] - 2s 51ms/step - loss: 0.0048\n",
      "Epoch 11/100\n",
      "38/38 [==============================] - 2s 51ms/step - loss: 0.0047\n",
      "Epoch 12/100\n",
      "38/38 [==============================] - 2s 52ms/step - loss: 0.0041\n",
      "Epoch 13/100\n",
      "38/38 [==============================] - 2s 51ms/step - loss: 0.0041\n",
      "Epoch 14/100\n",
      "38/38 [==============================] - 2s 52ms/step - loss: 0.0045\n",
      "Epoch 15/100\n",
      "38/38 [==============================] - 2s 51ms/step - loss: 0.0036: 0s \n",
      "Epoch 16/100\n",
      "38/38 [==============================] - 2s 53ms/step - loss: 0.0042\n",
      "Epoch 17/100\n",
      "38/38 [==============================] - 2s 52ms/step - loss: 0.0036\n",
      "Epoch 18/100\n",
      "38/38 [==============================] - 2s 51ms/step - loss: 0.0035\n",
      "Epoch 19/100\n",
      "38/38 [==============================] - 2s 52ms/step - loss: 0.0038\n",
      "Epoch 20/100\n",
      "38/38 [==============================] - 2s 52ms/step - loss: 0.0036\n",
      "Epoch 21/100\n",
      "38/38 [==============================] - 2s 52ms/step - loss: 0.0036\n",
      "Epoch 22/100\n",
      "38/38 [==============================] - 2s 53ms/step - loss: 0.0034\n",
      "Epoch 23/100\n",
      "38/38 [==============================] - 2s 53ms/step - loss: 0.0033\n",
      "Epoch 24/100\n",
      "38/38 [==============================] - 2s 53ms/step - loss: 0.0032\n",
      "Epoch 25/100\n",
      "38/38 [==============================] - 2s 52ms/step - loss: 0.0032\n",
      "Epoch 26/100\n",
      "38/38 [==============================] - 2s 52ms/step - loss: 0.0033\n",
      "Epoch 27/100\n",
      "38/38 [==============================] - 2s 51ms/step - loss: 0.0034\n",
      "Epoch 28/100\n",
      "38/38 [==============================] - 2s 52ms/step - loss: 0.0031\n",
      "Epoch 29/100\n",
      "38/38 [==============================] - 2s 52ms/step - loss: 0.0033\n",
      "Epoch 30/100\n",
      "38/38 [==============================] - 2s 51ms/step - loss: 0.0036\n",
      "Epoch 31/100\n",
      "38/38 [==============================] - 2s 52ms/step - loss: 0.0030\n",
      "Epoch 32/100\n",
      "38/38 [==============================] - 2s 53ms/step - loss: 0.0029\n",
      "Epoch 33/100\n",
      "38/38 [==============================] - 2s 52ms/step - loss: 0.0028\n",
      "Epoch 34/100\n",
      "38/38 [==============================] - 2s 52ms/step - loss: 0.0030\n",
      "Epoch 35/100\n",
      "38/38 [==============================] - 2s 52ms/step - loss: 0.0027\n",
      "Epoch 36/100\n",
      "38/38 [==============================] - 2s 52ms/step - loss: 0.0030\n",
      "Epoch 37/100\n",
      "38/38 [==============================] - 2s 52ms/step - loss: 0.0027\n",
      "Epoch 38/100\n",
      "38/38 [==============================] - 2s 52ms/step - loss: 0.0025\n",
      "Epoch 39/100\n",
      "38/38 [==============================] - 2s 52ms/step - loss: 0.0025\n",
      "Epoch 40/100\n",
      "38/38 [==============================] - 2s 53ms/step - loss: 0.0030\n",
      "Epoch 41/100\n",
      "38/38 [==============================] - 2s 52ms/step - loss: 0.0029\n",
      "Epoch 42/100\n",
      "38/38 [==============================] - 2s 52ms/step - loss: 0.0028\n",
      "Epoch 43/100\n",
      "38/38 [==============================] - 2s 52ms/step - loss: 0.0025\n",
      "Epoch 44/100\n",
      "38/38 [==============================] - ETA: 0s - loss: 0.002 - 2s 53ms/step - loss: 0.0025\n",
      "Epoch 45/100\n",
      "38/38 [==============================] - 2s 52ms/step - loss: 0.0029\n",
      "Epoch 46/100\n",
      "38/38 [==============================] - 2s 51ms/step - loss: 0.0024\n",
      "Epoch 47/100\n",
      "38/38 [==============================] - 2s 51ms/step - loss: 0.0024\n",
      "Epoch 48/100\n",
      "38/38 [==============================] - 2s 53ms/step - loss: 0.0028\n",
      "Epoch 49/100\n",
      "38/38 [==============================] - 2s 52ms/step - loss: 0.0027\n",
      "Epoch 50/100\n",
      "38/38 [==============================] - 2s 59ms/step - loss: 0.0023\n",
      "Epoch 51/100\n",
      "38/38 [==============================] - 2s 61ms/step - loss: 0.0022: 0s - loss: 0.002\n",
      "Epoch 52/100\n",
      "38/38 [==============================] - 2s 54ms/step - loss: 0.0023\n",
      "Epoch 53/100\n",
      "38/38 [==============================] - 2s 53ms/step - loss: 0.0026\n",
      "Epoch 54/100\n",
      "38/38 [==============================] - 2s 54ms/step - loss: 0.0024: 0s - los\n",
      "Epoch 55/100\n",
      "38/38 [==============================] - 2s 55ms/step - loss: 0.0021\n",
      "Epoch 56/100\n",
      "38/38 [==============================] - 2s 60ms/step - loss: 0.0022\n",
      "Epoch 57/100\n",
      "38/38 [==============================] - 2s 53ms/step - loss: 0.0020\n",
      "Epoch 58/100\n",
      "38/38 [==============================] - 2s 54ms/step - loss: 0.0023\n",
      "Epoch 59/100\n",
      "38/38 [==============================] - 2s 52ms/step - loss: 0.0024\n",
      "Epoch 60/100\n",
      "38/38 [==============================] - 2s 52ms/step - loss: 0.0021\n",
      "Epoch 61/100\n",
      "38/38 [==============================] - 2s 57ms/step - loss: 0.0018\n",
      "Epoch 62/100\n",
      "38/38 [==============================] - 2s 55ms/step - loss: 0.0022\n",
      "Epoch 63/100\n",
      "38/38 [==============================] - 2s 54ms/step - loss: 0.0020\n",
      "Epoch 64/100\n",
      "38/38 [==============================] - 2s 58ms/step - loss: 0.0022\n",
      "Epoch 65/100\n",
      "38/38 [==============================] - 2s 55ms/step - loss: 0.0019\n",
      "Epoch 66/100\n",
      "38/38 [==============================] - 2s 51ms/step - loss: 0.0021\n",
      "Epoch 67/100\n",
      "38/38 [==============================] - 2s 51ms/step - loss: 0.0018\n",
      "Epoch 68/100\n",
      "38/38 [==============================] - 2s 52ms/step - loss: 0.0021\n",
      "Epoch 69/100\n",
      "38/38 [==============================] - 2s 51ms/step - loss: 0.0019\n",
      "Epoch 70/100\n",
      "38/38 [==============================] - 2s 52ms/step - loss: 0.0020: \n",
      "Epoch 71/100\n",
      "38/38 [==============================] - 2s 53ms/step - loss: 0.0021\n",
      "Epoch 72/100\n",
      "38/38 [==============================] - 2s 51ms/step - loss: 0.0017\n",
      "Epoch 73/100\n",
      "38/38 [==============================] - 2s 51ms/step - loss: 0.0018\n",
      "Epoch 74/100\n",
      "38/38 [==============================] - 2s 52ms/step - loss: 0.0018\n",
      "Epoch 75/100\n",
      "38/38 [==============================] - 2s 54ms/step - loss: 0.0020\n",
      "Epoch 76/100\n",
      "38/38 [==============================] - 2s 52ms/step - loss: 0.0019\n",
      "Epoch 77/100\n",
      "38/38 [==============================] - 2s 52ms/step - loss: 0.0016\n",
      "Epoch 78/100\n",
      "38/38 [==============================] - 2s 54ms/step - loss: 0.0018\n",
      "Epoch 79/100\n",
      "38/38 [==============================] - 2s 52ms/step - loss: 0.0017\n",
      "Epoch 80/100\n",
      "38/38 [==============================] - 2s 51ms/step - loss: 0.0015\n",
      "Epoch 81/100\n",
      "38/38 [==============================] - 2s 51ms/step - loss: 0.0017\n",
      "Epoch 82/100\n",
      "38/38 [==============================] - 2s 51ms/step - loss: 0.0016\n",
      "Epoch 83/100\n",
      "38/38 [==============================] - 2s 51ms/step - loss: 0.0016\n",
      "Epoch 84/100\n",
      "38/38 [==============================] - 2s 51ms/step - loss: 0.0018\n",
      "Epoch 85/100\n",
      "38/38 [==============================] - 2s 51ms/step - loss: 0.0016\n",
      "Epoch 86/100\n",
      "38/38 [==============================] - 2s 52ms/step - loss: 0.0017\n",
      "Epoch 87/100\n",
      "38/38 [==============================] - 2s 52ms/step - loss: 0.0016\n",
      "Epoch 88/100\n",
      "38/38 [==============================] - 2s 51ms/step - loss: 0.0015\n",
      "Epoch 89/100\n",
      "38/38 [==============================] - 2s 52ms/step - loss: 0.0014\n",
      "Epoch 90/100\n",
      "38/38 [==============================] - 2s 51ms/step - loss: 0.0016\n",
      "Epoch 91/100\n",
      "38/38 [==============================] - 2s 52ms/step - loss: 0.0017\n",
      "Epoch 92/100\n",
      "38/38 [==============================] - 2s 51ms/step - loss: 0.0016\n",
      "Epoch 93/100\n",
      "38/38 [==============================] - 2s 52ms/step - loss: 0.0016\n",
      "Epoch 94/100\n",
      "38/38 [==============================] - 2s 52ms/step - loss: 0.0014\n",
      "Epoch 95/100\n",
      "38/38 [==============================] - 2s 51ms/step - loss: 0.0016\n",
      "Epoch 96/100\n",
      "38/38 [==============================] - 2s 51ms/step - loss: 0.0014\n",
      "Epoch 97/100\n",
      "38/38 [==============================] - 2s 52ms/step - loss: 0.0014\n",
      "Epoch 98/100\n",
      "38/38 [==============================] - 2s 51ms/step - loss: 0.0018\n",
      "Epoch 99/100\n",
      "38/38 [==============================] - 2s 51ms/step - loss: 0.0017\n",
      "Epoch 100/100\n",
      "38/38 [==============================] - 2s 51ms/step - loss: 0.0014\n"
     ]
    },
    {
     "data": {
      "text/plain": [
       "<tensorflow.python.keras.callbacks.History at 0x20c48398970>"
      ]
     },
     "execution_count": 21,
     "metadata": {},
     "output_type": "execute_result"
    }
   ],
   "source": [
    "regressor.fit(X_train, y_train, epochs = 100, batch_size = 32)"
   ]
  },
  {
   "cell_type": "markdown",
   "id": "b1ef8e7e-1599-4597-b9e6-b86775af9e76",
   "metadata": {},
   "source": [
    "# Ajustar las predicciones y visualizar los resultados"
   ]
  },
  {
   "cell_type": "code",
   "execution_count": 23,
   "id": "f78f3523-5fdc-4130-931e-cea2e5fe319d",
   "metadata": {},
   "outputs": [],
   "source": [
    "dataset_test = pd.read_csv('A:/a_Google Drive/01_Oriol/01_Machine Learning/05_deeplearning-az-master/datasets/Part 3 - Recurrent Neural Networks (RNN)/Google_Stock_Price_Test.csv')\n",
    "real_stock_prize = dataset_test.iloc[:, 1:2].values"
   ]
  },
  {
   "cell_type": "code",
   "execution_count": 24,
   "id": "429e1240-b0c5-4a11-b2d5-06620f835759",
   "metadata": {},
   "outputs": [
    {
     "data": {
      "text/plain": [
       "array([[778.81],\n",
       "       [788.36],\n",
       "       [786.08],\n",
       "       [795.26],\n",
       "       [806.4 ],\n",
       "       [807.86],\n",
       "       [805.  ],\n",
       "       [807.14],\n",
       "       [807.48],\n",
       "       [807.08],\n",
       "       [805.81],\n",
       "       [805.12],\n",
       "       [806.91],\n",
       "       [807.25],\n",
       "       [822.3 ],\n",
       "       [829.62],\n",
       "       [837.81],\n",
       "       [834.71],\n",
       "       [814.66],\n",
       "       [796.86]])"
      ]
     },
     "execution_count": 24,
     "metadata": {},
     "output_type": "execute_result"
    }
   ],
   "source": [
    "real_stock_prize"
   ]
  },
  {
   "cell_type": "markdown",
   "id": "ed47a288-285e-4984-bf44-1904d8fba010",
   "metadata": {},
   "source": [
    "## Predecir las acciones del mes de enero de 2017"
   ]
  },
  {
   "cell_type": "code",
   "execution_count": 26,
   "id": "1c8c67d1-f9b8-4674-a820-0df5b7de260d",
   "metadata": {},
   "outputs": [],
   "source": [
    "dataset_total = pd.concat((dataset_train['Open'], dataset_test['Open']), axis = 0)\n",
    "\n",
    "inputs = dataset_total[len(dataset_total)-len(dataset_test)-60: ].values"
   ]
  },
  {
   "cell_type": "code",
   "execution_count": 27,
   "id": "6d7b5921-adfb-40cb-aff4-d7aafa90fd6e",
   "metadata": {},
   "outputs": [
    {
     "data": {
      "text/plain": [
       "array([779.  , 779.66, 777.71, 786.66, 783.76, 781.22, 781.65, 779.8 ,\n",
       "       787.85, 798.24, 803.3 , 795.  , 804.9 , 816.68, 806.34, 801.  ,\n",
       "       808.35, 795.47, 782.89, 778.2 , 767.25, 750.66, 774.5 , 783.4 ,\n",
       "       779.94, 791.17, 756.54, 755.6 , 746.97, 755.2 , 766.92, 771.37,\n",
       "       762.61, 772.63, 767.73, 764.26, 760.  , 771.53, 770.07, 757.44,\n",
       "       744.59, 757.71, 764.73, 761.  , 772.48, 780.  , 785.04, 793.9 ,\n",
       "       797.4 , 797.34, 800.4 , 790.22, 796.76, 795.84, 792.36, 790.9 ,\n",
       "       790.68, 793.7 , 783.33, 782.75, 778.81, 788.36, 786.08, 795.26,\n",
       "       806.4 , 807.86, 805.  , 807.14, 807.48, 807.08, 805.81, 805.12,\n",
       "       806.91, 807.25, 822.3 , 829.62, 837.81, 834.71, 814.66, 796.86])"
      ]
     },
     "execution_count": 27,
     "metadata": {},
     "output_type": "execute_result"
    }
   ],
   "source": [
    "inputs"
   ]
  },
  {
   "cell_type": "code",
   "execution_count": 29,
   "id": "9fe22cb3-e671-4c2b-bde7-44fd9e8e803a",
   "metadata": {},
   "outputs": [],
   "source": [
    "inputs = inputs.reshape(-1,1)"
   ]
  },
  {
   "cell_type": "code",
   "execution_count": 33,
   "id": "fdfcb250-5f3b-4955-90d1-16a527643344",
   "metadata": {},
   "outputs": [],
   "source": [
    "inputs = sc.transform(inputs)"
   ]
  },
  {
   "cell_type": "code",
   "execution_count": 35,
   "id": "0a23156f-7dcb-42be-bb0d-2e40caa4852b",
   "metadata": {},
   "outputs": [],
   "source": [
    "X_test = []"
   ]
  },
  {
   "cell_type": "code",
   "execution_count": 36,
   "id": "a0714705-65e5-40fc-afef-a667103ecdce",
   "metadata": {},
   "outputs": [],
   "source": [
    "for i in range(60, 80):\n",
    "    X_test.append(inputs[i-60:i, 0])\n",
    "        \n",
    "X_test = np.array(X_test)"
   ]
  },
  {
   "cell_type": "code",
   "execution_count": 37,
   "id": "62c3de34-4d86-43fc-bb12-7d6f2be16370",
   "metadata": {},
   "outputs": [],
   "source": [
    "X_test = np.reshape(X_test, (X_test.shape[0], X_test.shape[1], 1))"
   ]
  },
  {
   "cell_type": "code",
   "execution_count": 41,
   "id": "8124ab62-76d8-4570-8154-86aef5989d15",
   "metadata": {},
   "outputs": [],
   "source": [
    "predicted_stock_prize = regressor.predict(X_test)"
   ]
  },
  {
   "cell_type": "code",
   "execution_count": 42,
   "id": "d7f4649b-f709-4c75-b418-6b4e9a45737b",
   "metadata": {},
   "outputs": [],
   "source": [
    "predicted_stock_prize = sc.inverse_transform(predicted_stock_prize)"
   ]
  },
  {
   "cell_type": "code",
   "execution_count": 43,
   "id": "00c81156-9aef-41e5-94ec-e3ecd7f7841a",
   "metadata": {},
   "outputs": [
    {
     "data": {
      "text/plain": [
       "array([[34.080112],\n",
       "       [34.075047],\n",
       "       [34.070724],\n",
       "       [34.06784 ],\n",
       "       [34.0672  ],\n",
       "       [34.069923],\n",
       "       [34.076042],\n",
       "       [34.084404],\n",
       "       [34.09347 ],\n",
       "       [34.101707],\n",
       "       [34.108276],\n",
       "       [34.11244 ],\n",
       "       [34.114235],\n",
       "       [34.11404 ],\n",
       "       [34.112698],\n",
       "       [34.111767],\n",
       "       [34.11324 ],\n",
       "       [34.11811 ],\n",
       "       [34.125736],\n",
       "       [34.13336 ]], dtype=float32)"
      ]
     },
     "execution_count": 43,
     "metadata": {},
     "output_type": "execute_result"
    }
   ],
   "source": [
    "predicted_stock_prize"
   ]
  },
  {
   "cell_type": "code",
   "execution_count": 46,
   "id": "7a699344-b9b2-4ee8-b111-deee594a7e5c",
   "metadata": {},
   "outputs": [
    {
     "data": {
      "image/png": "[encoded data removed]",
      "text/plain": [
       "<Figure size 432x288 with 1 Axes>"
      ]
     },
     "metadata": {
      "needs_background": "light"
     },
     "output_type": "display_data"
    }
   ],
   "source": [
    "plt.plot(real_stock_prize, color = 'red', label = 'Real Google Stock Prize')\n",
    "plt.plot(predicted_stock_prize, color = 'blue', label = 'Predicted Google Stock Prize')\n",
    "plt.title('Google Stock Prize Prediction')\n",
    "plt.xlabel('Time')\n",
    "plt.ylabel('Google Stock Prize')\n",
    "plt.legend()\n",
    "plt.show()"
   ]
  }
 ],
 "metadata": {
  "kernelspec": {
   "display_name": "Python 3",
   "language": "python",
   "name": "python3"
  },
  "language_info": {
   "codemirror_mode": {
    "name": "ipython",
    "version": 3
   },
   "file_extension": ".py",
   "mimetype": "text/x-python",
   "name": "python",
   "nbconvert_exporter": "python",
   "pygments_lexer": "ipython3",
   "version": "3.8.8"
  },
  "toc-autonumbering": true
 },
 "nbformat": 4,
 "nbformat_minor": 5
}
